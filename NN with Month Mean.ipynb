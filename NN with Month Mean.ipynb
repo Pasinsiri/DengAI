{
 "cells": [
  {
   "cell_type": "code",
   "execution_count": 1,
   "metadata": {},
   "outputs": [],
   "source": [
    "import numpy as np\n",
    "import pandas as pd\n",
    "import matplotlib.pyplot as plt\n",
    "\n",
    "import warnings\n",
    "warnings.filterwarnings('ignore')"
   ]
  },
  {
   "cell_type": "code",
   "execution_count": 2,
   "metadata": {},
   "outputs": [],
   "source": [
    "sj = pd.read_excel('SanJuan_all.xlsx')\n",
    "iq = pd.read_excel('Iquitos_all.xlsx')\n",
    "sub = pd.read_csv('submission_format.csv')"
   ]
  },
  {
   "cell_type": "code",
   "execution_count": 3,
   "metadata": {},
   "outputs": [],
   "source": [
    "sj = sj.set_index('Unnamed: 0')\n",
    "iq = iq.set_index('Unnamed: 0')\n",
    "sj_y = sj.pop('total_cases')\n",
    "iq_y = iq.pop('total_cases')"
   ]
  },
  {
   "cell_type": "code",
   "execution_count": 4,
   "metadata": {},
   "outputs": [
    {
     "data": {
      "text/html": [
       "<div>\n",
       "<style scoped>\n",
       "    .dataframe tbody tr th:only-of-type {\n",
       "        vertical-align: middle;\n",
       "    }\n",
       "\n",
       "    .dataframe tbody tr th {\n",
       "        vertical-align: top;\n",
       "    }\n",
       "\n",
       "    .dataframe thead th {\n",
       "        text-align: right;\n",
       "    }\n",
       "</style>\n",
       "<table border=\"1\" class=\"dataframe\">\n",
       "  <thead>\n",
       "    <tr style=\"text-align: right;\">\n",
       "      <th></th>\n",
       "      <th>ndvi_ne</th>\n",
       "      <th>ndvi_nw</th>\n",
       "      <th>ndvi_se</th>\n",
       "      <th>ndvi_sw</th>\n",
       "      <th>precipitation_amt_mm</th>\n",
       "      <th>reanalysis_air_temp_k</th>\n",
       "      <th>reanalysis_avg_temp_k</th>\n",
       "      <th>reanalysis_dew_point_temp_k</th>\n",
       "      <th>reanalysis_max_air_temp_k</th>\n",
       "      <th>reanalysis_min_air_temp_k</th>\n",
       "      <th>reanalysis_precip_amt_kg_per_m2</th>\n",
       "      <th>reanalysis_relative_humidity_percent</th>\n",
       "      <th>reanalysis_sat_precip_amt_mm</th>\n",
       "      <th>reanalysis_specific_humidity_g_per_kg</th>\n",
       "      <th>reanalysis_tdtr_k</th>\n",
       "      <th>station_avg_temp_c</th>\n",
       "      <th>station_diur_temp_rng_c</th>\n",
       "      <th>station_max_temp_c</th>\n",
       "      <th>station_min_temp_c</th>\n",
       "      <th>station_precip_mm</th>\n",
       "    </tr>\n",
       "    <tr>\n",
       "      <th>Unnamed: 0</th>\n",
       "      <th></th>\n",
       "      <th></th>\n",
       "      <th></th>\n",
       "      <th></th>\n",
       "      <th></th>\n",
       "      <th></th>\n",
       "      <th></th>\n",
       "      <th></th>\n",
       "      <th></th>\n",
       "      <th></th>\n",
       "      <th></th>\n",
       "      <th></th>\n",
       "      <th></th>\n",
       "      <th></th>\n",
       "      <th></th>\n",
       "      <th></th>\n",
       "      <th></th>\n",
       "      <th></th>\n",
       "      <th></th>\n",
       "      <th></th>\n",
       "    </tr>\n",
       "  </thead>\n",
       "  <tbody>\n",
       "    <tr>\n",
       "      <th>1990-04-30</th>\n",
       "      <td>0.122600</td>\n",
       "      <td>0.103725</td>\n",
       "      <td>0.198483</td>\n",
       "      <td>0.177617</td>\n",
       "      <td>12.42</td>\n",
       "      <td>297.572857</td>\n",
       "      <td>297.742857</td>\n",
       "      <td>292.414286</td>\n",
       "      <td>299.8</td>\n",
       "      <td>295.9</td>\n",
       "      <td>32.00</td>\n",
       "      <td>73.365714</td>\n",
       "      <td>12.42</td>\n",
       "      <td>14.012857</td>\n",
       "      <td>2.628571</td>\n",
       "      <td>25.442857</td>\n",
       "      <td>6.900000</td>\n",
       "      <td>29.4</td>\n",
       "      <td>20.0</td>\n",
       "      <td>16.0</td>\n",
       "    </tr>\n",
       "    <tr>\n",
       "      <th>1990-05-07</th>\n",
       "      <td>0.169900</td>\n",
       "      <td>0.142175</td>\n",
       "      <td>0.162357</td>\n",
       "      <td>0.155486</td>\n",
       "      <td>22.82</td>\n",
       "      <td>298.211429</td>\n",
       "      <td>298.442857</td>\n",
       "      <td>293.951429</td>\n",
       "      <td>300.9</td>\n",
       "      <td>296.4</td>\n",
       "      <td>17.94</td>\n",
       "      <td>77.368571</td>\n",
       "      <td>22.82</td>\n",
       "      <td>15.372857</td>\n",
       "      <td>2.371429</td>\n",
       "      <td>26.714286</td>\n",
       "      <td>6.371429</td>\n",
       "      <td>31.7</td>\n",
       "      <td>22.2</td>\n",
       "      <td>8.6</td>\n",
       "    </tr>\n",
       "    <tr>\n",
       "      <th>1990-05-14</th>\n",
       "      <td>0.032250</td>\n",
       "      <td>0.172967</td>\n",
       "      <td>0.157200</td>\n",
       "      <td>0.170843</td>\n",
       "      <td>34.54</td>\n",
       "      <td>298.781429</td>\n",
       "      <td>298.878571</td>\n",
       "      <td>295.434286</td>\n",
       "      <td>300.5</td>\n",
       "      <td>297.3</td>\n",
       "      <td>26.10</td>\n",
       "      <td>82.052857</td>\n",
       "      <td>34.54</td>\n",
       "      <td>16.848571</td>\n",
       "      <td>2.300000</td>\n",
       "      <td>26.714286</td>\n",
       "      <td>6.485714</td>\n",
       "      <td>32.2</td>\n",
       "      <td>22.8</td>\n",
       "      <td>41.4</td>\n",
       "    </tr>\n",
       "    <tr>\n",
       "      <th>1990-05-21</th>\n",
       "      <td>0.128633</td>\n",
       "      <td>0.245067</td>\n",
       "      <td>0.227557</td>\n",
       "      <td>0.235886</td>\n",
       "      <td>15.36</td>\n",
       "      <td>298.987143</td>\n",
       "      <td>299.228571</td>\n",
       "      <td>295.310000</td>\n",
       "      <td>301.4</td>\n",
       "      <td>297.0</td>\n",
       "      <td>13.90</td>\n",
       "      <td>80.337143</td>\n",
       "      <td>15.36</td>\n",
       "      <td>16.672857</td>\n",
       "      <td>2.428571</td>\n",
       "      <td>27.471429</td>\n",
       "      <td>6.771429</td>\n",
       "      <td>33.3</td>\n",
       "      <td>23.3</td>\n",
       "      <td>4.0</td>\n",
       "    </tr>\n",
       "    <tr>\n",
       "      <th>1990-05-28</th>\n",
       "      <td>0.196200</td>\n",
       "      <td>0.262200</td>\n",
       "      <td>0.251200</td>\n",
       "      <td>0.247340</td>\n",
       "      <td>7.52</td>\n",
       "      <td>299.518571</td>\n",
       "      <td>299.664286</td>\n",
       "      <td>295.821429</td>\n",
       "      <td>301.9</td>\n",
       "      <td>297.5</td>\n",
       "      <td>12.20</td>\n",
       "      <td>80.460000</td>\n",
       "      <td>7.52</td>\n",
       "      <td>17.210000</td>\n",
       "      <td>3.014286</td>\n",
       "      <td>28.942857</td>\n",
       "      <td>9.371429</td>\n",
       "      <td>35.0</td>\n",
       "      <td>23.9</td>\n",
       "      <td>5.8</td>\n",
       "    </tr>\n",
       "  </tbody>\n",
       "</table>\n",
       "</div>"
      ],
      "text/plain": [
       "             ndvi_ne   ndvi_nw   ndvi_se   ndvi_sw  precipitation_amt_mm  \\\n",
       "Unnamed: 0                                                                 \n",
       "1990-04-30  0.122600  0.103725  0.198483  0.177617                 12.42   \n",
       "1990-05-07  0.169900  0.142175  0.162357  0.155486                 22.82   \n",
       "1990-05-14  0.032250  0.172967  0.157200  0.170843                 34.54   \n",
       "1990-05-21  0.128633  0.245067  0.227557  0.235886                 15.36   \n",
       "1990-05-28  0.196200  0.262200  0.251200  0.247340                  7.52   \n",
       "\n",
       "            reanalysis_air_temp_k  reanalysis_avg_temp_k  \\\n",
       "Unnamed: 0                                                 \n",
       "1990-04-30             297.572857             297.742857   \n",
       "1990-05-07             298.211429             298.442857   \n",
       "1990-05-14             298.781429             298.878571   \n",
       "1990-05-21             298.987143             299.228571   \n",
       "1990-05-28             299.518571             299.664286   \n",
       "\n",
       "            reanalysis_dew_point_temp_k  reanalysis_max_air_temp_k  \\\n",
       "Unnamed: 0                                                           \n",
       "1990-04-30                   292.414286                      299.8   \n",
       "1990-05-07                   293.951429                      300.9   \n",
       "1990-05-14                   295.434286                      300.5   \n",
       "1990-05-21                   295.310000                      301.4   \n",
       "1990-05-28                   295.821429                      301.9   \n",
       "\n",
       "            reanalysis_min_air_temp_k  reanalysis_precip_amt_kg_per_m2  \\\n",
       "Unnamed: 0                                                               \n",
       "1990-04-30                      295.9                            32.00   \n",
       "1990-05-07                      296.4                            17.94   \n",
       "1990-05-14                      297.3                            26.10   \n",
       "1990-05-21                      297.0                            13.90   \n",
       "1990-05-28                      297.5                            12.20   \n",
       "\n",
       "            reanalysis_relative_humidity_percent  \\\n",
       "Unnamed: 0                                         \n",
       "1990-04-30                             73.365714   \n",
       "1990-05-07                             77.368571   \n",
       "1990-05-14                             82.052857   \n",
       "1990-05-21                             80.337143   \n",
       "1990-05-28                             80.460000   \n",
       "\n",
       "            reanalysis_sat_precip_amt_mm  \\\n",
       "Unnamed: 0                                 \n",
       "1990-04-30                         12.42   \n",
       "1990-05-07                         22.82   \n",
       "1990-05-14                         34.54   \n",
       "1990-05-21                         15.36   \n",
       "1990-05-28                          7.52   \n",
       "\n",
       "            reanalysis_specific_humidity_g_per_kg  reanalysis_tdtr_k  \\\n",
       "Unnamed: 0                                                             \n",
       "1990-04-30                              14.012857           2.628571   \n",
       "1990-05-07                              15.372857           2.371429   \n",
       "1990-05-14                              16.848571           2.300000   \n",
       "1990-05-21                              16.672857           2.428571   \n",
       "1990-05-28                              17.210000           3.014286   \n",
       "\n",
       "            station_avg_temp_c  station_diur_temp_rng_c  station_max_temp_c  \\\n",
       "Unnamed: 0                                                                    \n",
       "1990-04-30           25.442857                 6.900000                29.4   \n",
       "1990-05-07           26.714286                 6.371429                31.7   \n",
       "1990-05-14           26.714286                 6.485714                32.2   \n",
       "1990-05-21           27.471429                 6.771429                33.3   \n",
       "1990-05-28           28.942857                 9.371429                35.0   \n",
       "\n",
       "            station_min_temp_c  station_precip_mm  \n",
       "Unnamed: 0                                         \n",
       "1990-04-30                20.0               16.0  \n",
       "1990-05-07                22.2                8.6  \n",
       "1990-05-14                22.8               41.4  \n",
       "1990-05-21                23.3                4.0  \n",
       "1990-05-28                23.9                5.8  "
      ]
     },
     "execution_count": 4,
     "metadata": {},
     "output_type": "execute_result"
    }
   ],
   "source": [
    "sj.head()"
   ]
  },
  {
   "cell_type": "code",
   "execution_count": 5,
   "metadata": {},
   "outputs": [],
   "source": [
    "# Replace Null with Month Mean\n",
    "def mean_replace(data):\n",
    "    monthly = dict()\n",
    "    for month in range(1,13):\n",
    "        monthly[month] = data[data.index.month == month]\n",
    "        for col in monthly[month]:\n",
    "            monthly[month][col] = monthly[month][col].fillna(np.mean(monthly[month][col]))\n",
    "    new = pd.DataFrame(columns=data.columns)\n",
    "    #for num in monthly.keys():\n",
    "    #    new = np.vstack([new, monthly[num]])\n",
    "    templist = list()\n",
    "    for a in monthly.keys():\n",
    "        templist.append(monthly[a])\n",
    "    result = pd.concat(templist).sort_index()\n",
    "    return result"
   ]
  },
  {
   "cell_type": "code",
   "execution_count": 6,
   "metadata": {},
   "outputs": [],
   "source": [
    "month_sj = mean_replace(sj)\n",
    "month_iq = mean_replace(iq)"
   ]
  },
  {
   "cell_type": "code",
   "execution_count": 7,
   "metadata": {},
   "outputs": [],
   "source": [
    "log_sjy = np.log1p(sj_y)\n",
    "log_iqy = np.log1p(iq_y)"
   ]
  },
  {
   "cell_type": "markdown",
   "metadata": {},
   "source": [
    "# Split data into training set and testing set, regarding the number of lags."
   ]
  },
  {
   "cell_type": "code",
   "execution_count": 8,
   "metadata": {},
   "outputs": [],
   "source": [
    "def lag_split(data_x, data_y, lag):\n",
    "    # Count number of original training by count the number of total_cases which is not NA\n",
    "    test_no = data_y.isna().sum()\n",
    "    train_no = data_x.shape[0] - test_no\n",
    "    \n",
    "    x_train_ = data_x.iloc[:train_no - lag]\n",
    "    x_test_ = data_x.iloc[train_no - lag: train_no + test_no - lag]\n",
    "    \n",
    "    y_train_ = data_y[lag:].dropna()\n",
    "    return x_train_, x_test_, y_train_"
   ]
  },
  {
   "cell_type": "code",
   "execution_count": 9,
   "metadata": {},
   "outputs": [],
   "source": [
    "xx1, xx2, y1 = lag_split(month_sj, log_sjy, lag = 4)"
   ]
  },
  {
   "cell_type": "code",
   "execution_count": 10,
   "metadata": {},
   "outputs": [
    {
     "name": "stderr",
     "output_type": "stream",
     "text": [
      "Using TensorFlow backend.\n"
     ]
    }
   ],
   "source": [
    "from keras.models import Sequential\n",
    "from keras.layers import Dense\n",
    "from keras import optimizers"
   ]
  },
  {
   "cell_type": "code",
   "execution_count": 11,
   "metadata": {},
   "outputs": [],
   "source": [
    "model1 = Sequential()\n",
    "model1.add(Dense(units = 64, kernel_initializer = 'uniform',\n",
    "                activation = 'relu', input_dim = xx1.shape[1]))\n",
    "model1.add(Dense(units = 128, kernel_initializer = 'uniform', activation = 'relu'))\n",
    "model1.add(Dense(units = 64, kernel_initializer = 'uniform', activation = 'relu'))\n",
    "model1.add(Dense(units = 1, kernel_initializer = 'uniform', activation = 'linear'))\n",
    "\n",
    "sgd = optimizers.SGD(lr = 0.001, decay = 1, momentum = 0.99)\n",
    "model1.compile(optimizer = sgd, loss = 'mae', metrics = ['accuracy'])"
   ]
  },
  {
   "cell_type": "code",
   "execution_count": 12,
   "metadata": {},
   "outputs": [],
   "source": [
    "# San Juan\n",
    "#model1.fit(xx1, y1, epochs = 20, batch_size=2, verbose = 1)"
   ]
  },
  {
   "cell_type": "code",
   "execution_count": 13,
   "metadata": {},
   "outputs": [],
   "source": [
    "iq1, iq2, iq_y = lag_split(month_iq, log_iqy, lag = 3)"
   ]
  },
  {
   "cell_type": "code",
   "execution_count": 14,
   "metadata": {},
   "outputs": [],
   "source": [
    "model2 = Sequential()\n",
    "model2.add(Dense(units = 64, kernel_initializer = 'uniform',\n",
    "                activation = 'relu', input_dim = iq1.shape[1]))\n",
    "model2.add(Dense(units = 128, kernel_initializer = 'uniform', activation = 'relu'))\n",
    "model2.add(Dense(units = 64, kernel_initializer = 'uniform', activation = 'relu'))\n",
    "model2.add(Dense(units = 1, kernel_initializer = 'uniform', activation = 'linear'))\n",
    "model2.compile(optimizer = 'adam', loss = 'mae', metrics = ['accuracy'])"
   ]
  },
  {
   "cell_type": "code",
   "execution_count": 15,
   "metadata": {},
   "outputs": [],
   "source": [
    "# San Juan\n",
    "#model2.fit(iq1, iq_y, epochs = 20, batch_size=2, verbose = 1)"
   ]
  },
  {
   "cell_type": "code",
   "execution_count": 16,
   "metadata": {},
   "outputs": [
    {
     "name": "stdout",
     "output_type": "stream",
     "text": [
      "WARNING:tensorflow:From /Users/pasin/opt/anaconda3/envs/env01/lib/python3.7/site-packages/keras/backend/tensorflow_backend.py:422: The name tf.global_variables is deprecated. Please use tf.compat.v1.global_variables instead.\n",
      "\n"
     ]
    }
   ],
   "source": [
    "sj_result = model1.predict(xx2)\n",
    "iq_result = model2.predict(iq2)"
   ]
  },
  {
   "cell_type": "code",
   "execution_count": 17,
   "metadata": {},
   "outputs": [],
   "source": [
    "tot_result = np.vstack([sj_result, iq_result])\n",
    "tot_result = [(np.exp(x) - 1) for x in tot_result]"
   ]
  },
  {
   "cell_type": "code",
   "execution_count": 18,
   "metadata": {},
   "outputs": [],
   "source": [
    "sub.total_cases = [int(x) for x in tot_result]"
   ]
  },
  {
   "cell_type": "code",
   "execution_count": 19,
   "metadata": {},
   "outputs": [],
   "source": [
    "sub.to_csv('NN05.csv', index = False)"
   ]
  },
  {
   "cell_type": "markdown",
   "metadata": {},
   "source": [
    "# Approach 2: train_test_split within the training data"
   ]
  },
  {
   "cell_type": "code",
   "execution_count": 148,
   "metadata": {},
   "outputs": [],
   "source": [
    "sj = pd.read_excel('SanJuan_all.xlsx', index_col = 'Unnamed: 0')\n",
    "iq = pd.read_excel('Iquitos_all.xlsx', index_col = 'Unnamed: 0')\n",
    "sub = pd.read_csv('submission_format.csv')"
   ]
  },
  {
   "cell_type": "code",
   "execution_count": 149,
   "metadata": {},
   "outputs": [],
   "source": [
    "sj_used = sj[~sj.total_cases.isnull()]\n",
    "iq_used = iq[~iq.total_cases.isnull()]\n",
    "\n",
    "sj_y = sj_used.pop('total_cases')\n",
    "iq_y = iq_used.pop('total_cases')"
   ]
  },
  {
   "cell_type": "code",
   "execution_count": 150,
   "metadata": {},
   "outputs": [
    {
     "data": {
      "text/html": [
       "<div>\n",
       "<style scoped>\n",
       "    .dataframe tbody tr th:only-of-type {\n",
       "        vertical-align: middle;\n",
       "    }\n",
       "\n",
       "    .dataframe tbody tr th {\n",
       "        vertical-align: top;\n",
       "    }\n",
       "\n",
       "    .dataframe thead th {\n",
       "        text-align: right;\n",
       "    }\n",
       "</style>\n",
       "<table border=\"1\" class=\"dataframe\">\n",
       "  <thead>\n",
       "    <tr style=\"text-align: right;\">\n",
       "      <th></th>\n",
       "      <th>ndvi_ne</th>\n",
       "      <th>ndvi_nw</th>\n",
       "      <th>ndvi_se</th>\n",
       "      <th>ndvi_sw</th>\n",
       "      <th>precipitation_amt_mm</th>\n",
       "      <th>reanalysis_air_temp_k</th>\n",
       "      <th>reanalysis_avg_temp_k</th>\n",
       "      <th>reanalysis_dew_point_temp_k</th>\n",
       "      <th>reanalysis_max_air_temp_k</th>\n",
       "      <th>reanalysis_min_air_temp_k</th>\n",
       "      <th>reanalysis_precip_amt_kg_per_m2</th>\n",
       "      <th>reanalysis_relative_humidity_percent</th>\n",
       "      <th>reanalysis_sat_precip_amt_mm</th>\n",
       "      <th>reanalysis_specific_humidity_g_per_kg</th>\n",
       "      <th>reanalysis_tdtr_k</th>\n",
       "      <th>station_avg_temp_c</th>\n",
       "      <th>station_diur_temp_rng_c</th>\n",
       "      <th>station_max_temp_c</th>\n",
       "      <th>station_min_temp_c</th>\n",
       "      <th>station_precip_mm</th>\n",
       "    </tr>\n",
       "  </thead>\n",
       "  <tbody>\n",
       "    <tr>\n",
       "      <th>1990-04-30</th>\n",
       "      <td>0.122600</td>\n",
       "      <td>0.103725</td>\n",
       "      <td>0.198483</td>\n",
       "      <td>0.177617</td>\n",
       "      <td>12.42</td>\n",
       "      <td>297.572857</td>\n",
       "      <td>297.742857</td>\n",
       "      <td>292.414286</td>\n",
       "      <td>299.8</td>\n",
       "      <td>295.9</td>\n",
       "      <td>32.00</td>\n",
       "      <td>73.365714</td>\n",
       "      <td>12.42</td>\n",
       "      <td>14.012857</td>\n",
       "      <td>2.628571</td>\n",
       "      <td>25.442857</td>\n",
       "      <td>6.900000</td>\n",
       "      <td>29.4</td>\n",
       "      <td>20.0</td>\n",
       "      <td>16.0</td>\n",
       "    </tr>\n",
       "    <tr>\n",
       "      <th>1990-05-07</th>\n",
       "      <td>0.169900</td>\n",
       "      <td>0.142175</td>\n",
       "      <td>0.162357</td>\n",
       "      <td>0.155486</td>\n",
       "      <td>22.82</td>\n",
       "      <td>298.211429</td>\n",
       "      <td>298.442857</td>\n",
       "      <td>293.951429</td>\n",
       "      <td>300.9</td>\n",
       "      <td>296.4</td>\n",
       "      <td>17.94</td>\n",
       "      <td>77.368571</td>\n",
       "      <td>22.82</td>\n",
       "      <td>15.372857</td>\n",
       "      <td>2.371429</td>\n",
       "      <td>26.714286</td>\n",
       "      <td>6.371429</td>\n",
       "      <td>31.7</td>\n",
       "      <td>22.2</td>\n",
       "      <td>8.6</td>\n",
       "    </tr>\n",
       "    <tr>\n",
       "      <th>1990-05-14</th>\n",
       "      <td>0.032250</td>\n",
       "      <td>0.172967</td>\n",
       "      <td>0.157200</td>\n",
       "      <td>0.170843</td>\n",
       "      <td>34.54</td>\n",
       "      <td>298.781429</td>\n",
       "      <td>298.878571</td>\n",
       "      <td>295.434286</td>\n",
       "      <td>300.5</td>\n",
       "      <td>297.3</td>\n",
       "      <td>26.10</td>\n",
       "      <td>82.052857</td>\n",
       "      <td>34.54</td>\n",
       "      <td>16.848571</td>\n",
       "      <td>2.300000</td>\n",
       "      <td>26.714286</td>\n",
       "      <td>6.485714</td>\n",
       "      <td>32.2</td>\n",
       "      <td>22.8</td>\n",
       "      <td>41.4</td>\n",
       "    </tr>\n",
       "    <tr>\n",
       "      <th>1990-05-21</th>\n",
       "      <td>0.128633</td>\n",
       "      <td>0.245067</td>\n",
       "      <td>0.227557</td>\n",
       "      <td>0.235886</td>\n",
       "      <td>15.36</td>\n",
       "      <td>298.987143</td>\n",
       "      <td>299.228571</td>\n",
       "      <td>295.310000</td>\n",
       "      <td>301.4</td>\n",
       "      <td>297.0</td>\n",
       "      <td>13.90</td>\n",
       "      <td>80.337143</td>\n",
       "      <td>15.36</td>\n",
       "      <td>16.672857</td>\n",
       "      <td>2.428571</td>\n",
       "      <td>27.471429</td>\n",
       "      <td>6.771429</td>\n",
       "      <td>33.3</td>\n",
       "      <td>23.3</td>\n",
       "      <td>4.0</td>\n",
       "    </tr>\n",
       "    <tr>\n",
       "      <th>1990-05-28</th>\n",
       "      <td>0.196200</td>\n",
       "      <td>0.262200</td>\n",
       "      <td>0.251200</td>\n",
       "      <td>0.247340</td>\n",
       "      <td>7.52</td>\n",
       "      <td>299.518571</td>\n",
       "      <td>299.664286</td>\n",
       "      <td>295.821429</td>\n",
       "      <td>301.9</td>\n",
       "      <td>297.5</td>\n",
       "      <td>12.20</td>\n",
       "      <td>80.460000</td>\n",
       "      <td>7.52</td>\n",
       "      <td>17.210000</td>\n",
       "      <td>3.014286</td>\n",
       "      <td>28.942857</td>\n",
       "      <td>9.371429</td>\n",
       "      <td>35.0</td>\n",
       "      <td>23.9</td>\n",
       "      <td>5.8</td>\n",
       "    </tr>\n",
       "  </tbody>\n",
       "</table>\n",
       "</div>"
      ],
      "text/plain": [
       "             ndvi_ne   ndvi_nw   ndvi_se   ndvi_sw  precipitation_amt_mm  \\\n",
       "1990-04-30  0.122600  0.103725  0.198483  0.177617                 12.42   \n",
       "1990-05-07  0.169900  0.142175  0.162357  0.155486                 22.82   \n",
       "1990-05-14  0.032250  0.172967  0.157200  0.170843                 34.54   \n",
       "1990-05-21  0.128633  0.245067  0.227557  0.235886                 15.36   \n",
       "1990-05-28  0.196200  0.262200  0.251200  0.247340                  7.52   \n",
       "\n",
       "            reanalysis_air_temp_k  reanalysis_avg_temp_k  \\\n",
       "1990-04-30             297.572857             297.742857   \n",
       "1990-05-07             298.211429             298.442857   \n",
       "1990-05-14             298.781429             298.878571   \n",
       "1990-05-21             298.987143             299.228571   \n",
       "1990-05-28             299.518571             299.664286   \n",
       "\n",
       "            reanalysis_dew_point_temp_k  reanalysis_max_air_temp_k  \\\n",
       "1990-04-30                   292.414286                      299.8   \n",
       "1990-05-07                   293.951429                      300.9   \n",
       "1990-05-14                   295.434286                      300.5   \n",
       "1990-05-21                   295.310000                      301.4   \n",
       "1990-05-28                   295.821429                      301.9   \n",
       "\n",
       "            reanalysis_min_air_temp_k  reanalysis_precip_amt_kg_per_m2  \\\n",
       "1990-04-30                      295.9                            32.00   \n",
       "1990-05-07                      296.4                            17.94   \n",
       "1990-05-14                      297.3                            26.10   \n",
       "1990-05-21                      297.0                            13.90   \n",
       "1990-05-28                      297.5                            12.20   \n",
       "\n",
       "            reanalysis_relative_humidity_percent  \\\n",
       "1990-04-30                             73.365714   \n",
       "1990-05-07                             77.368571   \n",
       "1990-05-14                             82.052857   \n",
       "1990-05-21                             80.337143   \n",
       "1990-05-28                             80.460000   \n",
       "\n",
       "            reanalysis_sat_precip_amt_mm  \\\n",
       "1990-04-30                         12.42   \n",
       "1990-05-07                         22.82   \n",
       "1990-05-14                         34.54   \n",
       "1990-05-21                         15.36   \n",
       "1990-05-28                          7.52   \n",
       "\n",
       "            reanalysis_specific_humidity_g_per_kg  reanalysis_tdtr_k  \\\n",
       "1990-04-30                              14.012857           2.628571   \n",
       "1990-05-07                              15.372857           2.371429   \n",
       "1990-05-14                              16.848571           2.300000   \n",
       "1990-05-21                              16.672857           2.428571   \n",
       "1990-05-28                              17.210000           3.014286   \n",
       "\n",
       "            station_avg_temp_c  station_diur_temp_rng_c  station_max_temp_c  \\\n",
       "1990-04-30           25.442857                 6.900000                29.4   \n",
       "1990-05-07           26.714286                 6.371429                31.7   \n",
       "1990-05-14           26.714286                 6.485714                32.2   \n",
       "1990-05-21           27.471429                 6.771429                33.3   \n",
       "1990-05-28           28.942857                 9.371429                35.0   \n",
       "\n",
       "            station_min_temp_c  station_precip_mm  \n",
       "1990-04-30                20.0               16.0  \n",
       "1990-05-07                22.2                8.6  \n",
       "1990-05-14                22.8               41.4  \n",
       "1990-05-21                23.3                4.0  \n",
       "1990-05-28                23.9                5.8  "
      ]
     },
     "execution_count": 150,
     "metadata": {},
     "output_type": "execute_result"
    }
   ],
   "source": [
    "sj_used.head()"
   ]
  },
  {
   "cell_type": "code",
   "execution_count": 151,
   "metadata": {},
   "outputs": [],
   "source": [
    "month_sj = mean_replace(sj_used)\n",
    "month_iq = mean_replace(iq_used)"
   ]
  },
  {
   "cell_type": "code",
   "execution_count": 152,
   "metadata": {},
   "outputs": [],
   "source": [
    "def lag_split2(data, target, lag):\n",
    "    x_ = data.iloc[:-lag].reset_index()\n",
    "    y_ = target.iloc[lag:].reset_index()\n",
    "    return x_, y_"
   ]
  },
  {
   "cell_type": "code",
   "execution_count": 208,
   "metadata": {},
   "outputs": [],
   "source": [
    "lag = 4\n",
    "x = month_sj.iloc[:-lag].reset_index().drop('index', axis = 1)\n",
    "y = sj_y.iloc[lag:].reset_index().drop('index', axis = 1)"
   ]
  },
  {
   "cell_type": "code",
   "execution_count": 209,
   "metadata": {},
   "outputs": [],
   "source": [
    "train_size = np.int(0.7 * x.shape[0])\n",
    "x_train, x_test = x.iloc[:train_size], x.iloc[train_size:]\n",
    "y_train, y_test = y.iloc[:train_size], y.iloc[train_size:]"
   ]
  },
  {
   "cell_type": "code",
   "execution_count": 93,
   "metadata": {},
   "outputs": [],
   "source": [
    "from keras.models import Sequential\n",
    "from keras.layers import Dense\n",
    "from keras import optimizers"
   ]
  },
  {
   "cell_type": "code",
   "execution_count": 94,
   "metadata": {},
   "outputs": [],
   "source": [
    "model1 = Sequential()\n",
    "model1.add(Dense(units = 64, kernel_initializer = 'uniform',\n",
    "                activation = 'relu', input_dim = x_train.shape[1]))\n",
    "model1.add(Dense(units = 128, kernel_initializer = 'uniform', activation = 'relu'))\n",
    "model1.add(Dense(units = 64, kernel_initializer = 'uniform', activation = 'relu'))\n",
    "model1.add(Dense(units = 1, kernel_initializer = 'uniform', activation = 'linear'))\n",
    "\n",
    "sgd = optimizers.SGD(lr = 0.001, decay = 1, momentum = 0.99)\n",
    "model1.compile(optimizer = sgd, loss = 'mae', metrics = ['accuracy'])"
   ]
  },
  {
   "cell_type": "code",
   "execution_count": 95,
   "metadata": {},
   "outputs": [
    {
     "name": "stdout",
     "output_type": "stream",
     "text": [
      "Epoch 1/20\n",
      "361/361 [==============================] - 1s 1ms/step - loss: 5.5780 - accuracy: 0.0776\n",
      "Epoch 2/20\n",
      "361/361 [==============================] - 0s 539us/step - loss: 5.5545 - accuracy: 0.0554\n",
      "Epoch 3/20\n",
      "361/361 [==============================] - 0s 561us/step - loss: 5.4310 - accuracy: 0.0970\n",
      "Epoch 4/20\n",
      "361/361 [==============================] - 0s 549us/step - loss: 5.4812 - accuracy: 0.0693\n",
      "Epoch 5/20\n",
      "361/361 [==============================] - 0s 555us/step - loss: 5.4148 - accuracy: 0.0526\n",
      "Epoch 6/20\n",
      "361/361 [==============================] - 0s 542us/step - loss: 5.3574 - accuracy: 0.0637\n",
      "Epoch 7/20\n",
      "361/361 [==============================] - 0s 548us/step - loss: 5.4113 - accuracy: 0.0665\n",
      "Epoch 8/20\n",
      "361/361 [==============================] - 0s 552us/step - loss: 5.3528 - accuracy: 0.0582\n",
      "Epoch 9/20\n",
      "361/361 [==============================] - 0s 573us/step - loss: 5.3645 - accuracy: 0.0609\n",
      "Epoch 10/20\n",
      "361/361 [==============================] - 0s 548us/step - loss: 5.3659 - accuracy: 0.0637\n",
      "Epoch 11/20\n",
      "361/361 [==============================] - 0s 544us/step - loss: 5.3521 - accuracy: 0.0665\n",
      "Epoch 12/20\n",
      "361/361 [==============================] - 0s 548us/step - loss: 5.3601 - accuracy: 0.0609\n",
      "Epoch 13/20\n",
      "361/361 [==============================] - 0s 549us/step - loss: 5.3511 - accuracy: 0.0609\n",
      "Epoch 14/20\n",
      "361/361 [==============================] - 0s 612us/step - loss: 5.3547 - accuracy: 0.0637\n",
      "Epoch 15/20\n",
      "361/361 [==============================] - 0s 576us/step - loss: 5.3511 - accuracy: 0.0748\n",
      "Epoch 16/20\n",
      "361/361 [==============================] - 0s 533us/step - loss: 5.3630 - accuracy: 0.0637\n",
      "Epoch 17/20\n",
      "361/361 [==============================] - 0s 574us/step - loss: 5.3501 - accuracy: 0.0665\n",
      "Epoch 18/20\n",
      "361/361 [==============================] - 0s 539us/step - loss: 5.3503 - accuracy: 0.0720\n",
      "Epoch 19/20\n",
      "361/361 [==============================] - 0s 573us/step - loss: 5.3496 - accuracy: 0.0720\n",
      "Epoch 20/20\n",
      "361/361 [==============================] - 0s 551us/step - loss: 5.3530 - accuracy: 0.0637\n"
     ]
    },
    {
     "data": {
      "text/plain": [
       "<keras.callbacks.callbacks.History at 0x1a546edcd0>"
      ]
     },
     "execution_count": 95,
     "metadata": {},
     "output_type": "execute_result"
    }
   ],
   "source": [
    "# Iquitos\n",
    "model1.fit(x_train, y_train, epochs = 20, batch_size=2, verbose = 1)"
   ]
  },
  {
   "cell_type": "code",
   "execution_count": 96,
   "metadata": {},
   "outputs": [],
   "source": [
    "result1 = model1.predict(x_test).reshape(-1)\n",
    "result1 = [int(x) for x in result1]"
   ]
  },
  {
   "cell_type": "code",
   "execution_count": 97,
   "metadata": {},
   "outputs": [
    {
     "data": {
      "text/html": [
       "<div>\n",
       "<style scoped>\n",
       "    .dataframe tbody tr th:only-of-type {\n",
       "        vertical-align: middle;\n",
       "    }\n",
       "\n",
       "    .dataframe tbody tr th {\n",
       "        vertical-align: top;\n",
       "    }\n",
       "\n",
       "    .dataframe thead th {\n",
       "        text-align: right;\n",
       "    }\n",
       "</style>\n",
       "<table border=\"1\" class=\"dataframe\">\n",
       "  <thead>\n",
       "    <tr style=\"text-align: right;\">\n",
       "      <th></th>\n",
       "      <th>total_cases</th>\n",
       "      <th>predicted</th>\n",
       "    </tr>\n",
       "  </thead>\n",
       "  <tbody>\n",
       "    <tr>\n",
       "      <th>361</th>\n",
       "      <td>4.0</td>\n",
       "      <td>3</td>\n",
       "    </tr>\n",
       "    <tr>\n",
       "      <th>362</th>\n",
       "      <td>1.0</td>\n",
       "      <td>4</td>\n",
       "    </tr>\n",
       "    <tr>\n",
       "      <th>363</th>\n",
       "      <td>8.0</td>\n",
       "      <td>3</td>\n",
       "    </tr>\n",
       "    <tr>\n",
       "      <th>364</th>\n",
       "      <td>5.0</td>\n",
       "      <td>3</td>\n",
       "    </tr>\n",
       "    <tr>\n",
       "      <th>365</th>\n",
       "      <td>3.0</td>\n",
       "      <td>3</td>\n",
       "    </tr>\n",
       "  </tbody>\n",
       "</table>\n",
       "</div>"
      ],
      "text/plain": [
       "     total_cases  predicted\n",
       "361          4.0          3\n",
       "362          1.0          4\n",
       "363          8.0          3\n",
       "364          5.0          3\n",
       "365          3.0          3"
      ]
     },
     "execution_count": 97,
     "metadata": {},
     "output_type": "execute_result"
    }
   ],
   "source": [
    "y_compared = y_test.copy()\n",
    "y_compared['predicted'] = result1\n",
    "y_compared.head()"
   ]
  },
  {
   "cell_type": "code",
   "execution_count": 98,
   "metadata": {},
   "outputs": [
    {
     "data": {
      "text/plain": [
       "<matplotlib.axes._subplots.AxesSubplot at 0x1a5403cad0>"
      ]
     },
     "execution_count": 98,
     "metadata": {},
     "output_type": "execute_result"
    },
    {
     "data": {
      "image/png": "[encoded data removed]",
      "text/plain": [
       "<Figure size 432x288 with 1 Axes>"
      ]
     },
     "metadata": {
      "needs_background": "light"
     },
     "output_type": "display_data"
    }
   ],
   "source": [
    "y_compared.plot()"
   ]
  },
  {
   "cell_type": "code",
   "execution_count": 99,
   "metadata": {},
   "outputs": [],
   "source": [
    "def mae(data):\n",
    "    total_error = 0\n",
    "    for i in range(data.shape[0]):\n",
    "        total_error += np.abs(data.iloc[i][0] - data.iloc[i][1])\n",
    "    return total_error / data.shape[0]"
   ]
  },
  {
   "cell_type": "code",
   "execution_count": 100,
   "metadata": {},
   "outputs": [
    {
     "data": {
      "text/plain": [
       "7.84516129032258"
      ]
     },
     "execution_count": 100,
     "metadata": {},
     "output_type": "execute_result"
    }
   ],
   "source": [
    "mae(y_compared)"
   ]
  },
  {
   "cell_type": "markdown",
   "metadata": {},
   "source": [
    "# Other regression methods"
   ]
  },
  {
   "cell_type": "markdown",
   "metadata": {},
   "source": [
    "## Linear Regression "
   ]
  },
  {
   "cell_type": "code",
   "execution_count": 101,
   "metadata": {},
   "outputs": [],
   "source": [
    "from sklearn.linear_model import LinearRegression"
   ]
  },
  {
   "cell_type": "code",
   "execution_count": 102,
   "metadata": {},
   "outputs": [],
   "source": [
    "reg = LinearRegression()\n",
    "linreg = reg.fit(x_train, y_train)"
   ]
  },
  {
   "cell_type": "code",
   "execution_count": 103,
   "metadata": {},
   "outputs": [],
   "source": [
    "#linreg.predict(x_test)\n",
    "y_linreg = y_test.copy()\n",
    "y_linreg['predicted'] = linreg.predict(x_test)"
   ]
  },
  {
   "cell_type": "code",
   "execution_count": 104,
   "metadata": {},
   "outputs": [
    {
     "data": {
      "text/plain": [
       "<matplotlib.axes._subplots.AxesSubplot at 0x1a53219dd0>"
      ]
     },
     "execution_count": 104,
     "metadata": {},
     "output_type": "execute_result"
    },
    {
     "data": {
      "image/png": "[encoded data removed]",
      "text/plain": [
       "<Figure size 432x288 with 1 Axes>"
      ]
     },
     "metadata": {
      "needs_background": "light"
     },
     "output_type": "display_data"
    }
   ],
   "source": [
    "y_linreg.plot()"
   ]
  },
  {
   "cell_type": "code",
   "execution_count": 105,
   "metadata": {},
   "outputs": [
    {
     "data": {
      "text/plain": [
       "7.824983856828684"
      ]
     },
     "execution_count": 105,
     "metadata": {},
     "output_type": "execute_result"
    }
   ],
   "source": [
    "mae(y_linreg)"
   ]
  },
  {
   "cell_type": "markdown",
   "metadata": {},
   "source": [
    "## Support Vector Regression"
   ]
  },
  {
   "cell_type": "code",
   "execution_count": 106,
   "metadata": {},
   "outputs": [],
   "source": [
    "from sklearn.svm import SVR"
   ]
  },
  {
   "cell_type": "code",
   "execution_count": 107,
   "metadata": {},
   "outputs": [],
   "source": [
    "svr_lin = SVR(kernel = 'linear')\n",
    "#svr_rbf = SVR()\n",
    "#svr_poly = SVR(kernel = 'poly')"
   ]
  },
  {
   "cell_type": "code",
   "execution_count": 165,
   "metadata": {},
   "outputs": [],
   "source": [
    "svr_lin_fit = svr_lin.fit(x_train, y_train)\n",
    "svr_rbf_fit = svr_rbf.fit(x_train, y_train)\n",
    "#svr_poly_fit = svr_poly.fit(x_train, y_train)\n",
    "y_svr = y_test.copy()\n",
    "y_svr['predicted'] = svr_lin_fit.predict(x_test)\n",
    "#y_svr['poly'] = svr_poly_fit.predict(x_test)\n",
    "#y_svr['rbf'] = svr_rbf_fit.predict(x_test)"
   ]
  },
  {
   "cell_type": "code",
   "execution_count": 166,
   "metadata": {},
   "outputs": [
    {
     "data": {
      "text/plain": [
       "<matplotlib.axes._subplots.AxesSubplot at 0x10905df90>"
      ]
     },
     "execution_count": 166,
     "metadata": {},
     "output_type": "execute_result"
    },
    {
     "data": {
      "image/png": "[encoded data removed]",
      "text/plain": [
       "<Figure size 432x288 with 1 Axes>"
      ]
     },
     "metadata": {
      "needs_background": "light"
     },
     "output_type": "display_data"
    }
   ],
   "source": [
    "y_svr.plot()"
   ]
  },
  {
   "cell_type": "code",
   "execution_count": 110,
   "metadata": {},
   "outputs": [
    {
     "data": {
      "text/plain": [
       "7.808518479856457"
      ]
     },
     "execution_count": 110,
     "metadata": {},
     "output_type": "execute_result"
    }
   ],
   "source": [
    "mae(y_svr)"
   ]
  },
  {
   "cell_type": "markdown",
   "metadata": {},
   "source": [
    "## Polynomial Regression"
   ]
  },
  {
   "cell_type": "code",
   "execution_count": 111,
   "metadata": {},
   "outputs": [],
   "source": [
    "polyreg = LinearRegression()"
   ]
  },
  {
   "cell_type": "code",
   "execution_count": 112,
   "metadata": {},
   "outputs": [],
   "source": [
    "from sklearn.preprocessing import PolynomialFeatures"
   ]
  },
  {
   "cell_type": "code",
   "execution_count": 113,
   "metadata": {},
   "outputs": [],
   "source": [
    "quad = PolynomialFeatures(degree = 2)\n",
    "x_quad_train = quad.fit_transform(x_train)\n",
    "x_quad_test = quad.transform(x_test)"
   ]
  },
  {
   "cell_type": "code",
   "execution_count": 114,
   "metadata": {},
   "outputs": [],
   "source": [
    "polyreg_fit = polyreg.fit(x_quad_train, y_train)"
   ]
  },
  {
   "cell_type": "code",
   "execution_count": 115,
   "metadata": {},
   "outputs": [
    {
     "data": {
      "text/plain": [
       "<matplotlib.axes._subplots.AxesSubplot at 0x1a52d57390>"
      ]
     },
     "execution_count": 115,
     "metadata": {},
     "output_type": "execute_result"
    },
    {
     "data": {
      "image/png": "[encoded data removed]",
      "text/plain": [
       "<Figure size 432x288 with 1 Axes>"
      ]
     },
     "metadata": {
      "needs_background": "light"
     },
     "output_type": "display_data"
    }
   ],
   "source": [
    "y_poly = y_test.copy()\n",
    "y_poly_pred = polyreg_fit.predict(x_quad_test).reshape(-1)\n",
    "y_poly['predicted'] = [max(0, i) for i in y_poly_pred]\n",
    "y_poly.plot()"
   ]
  },
  {
   "cell_type": "code",
   "execution_count": 116,
   "metadata": {},
   "outputs": [
    {
     "data": {
      "text/plain": [
       "11.74010008688896"
      ]
     },
     "execution_count": 116,
     "metadata": {},
     "output_type": "execute_result"
    }
   ],
   "source": [
    "mae(y_poly)"
   ]
  },
  {
   "cell_type": "markdown",
   "metadata": {},
   "source": [
    "## RANSAC Regression"
   ]
  },
  {
   "cell_type": "code",
   "execution_count": 117,
   "metadata": {},
   "outputs": [],
   "source": [
    "from sklearn.linear_model import RANSACRegressor"
   ]
  },
  {
   "cell_type": "code",
   "execution_count": 118,
   "metadata": {},
   "outputs": [],
   "source": [
    "ransac = RANSACRegressor(LinearRegression(), max_trials = 100, min_samples = 10)\n",
    "ransac_fit = ransac.fit(x_train, y_train)\n",
    "y_ransac = y_test.copy()\n",
    "y_ransac['predicted'] = ransac_fit.predict(x_test).reshape(-1)"
   ]
  },
  {
   "cell_type": "code",
   "execution_count": 119,
   "metadata": {},
   "outputs": [
    {
     "data": {
      "text/plain": [
       "<matplotlib.axes._subplots.AxesSubplot at 0x1a558bbd90>"
      ]
     },
     "execution_count": 119,
     "metadata": {},
     "output_type": "execute_result"
    },
    {
     "data": {
      "image/png": "[encoded data removed]",
      "text/plain": [
       "<Figure size 432x288 with 1 Axes>"
      ]
     },
     "metadata": {
      "needs_background": "light"
     },
     "output_type": "display_data"
    }
   ],
   "source": [
    "y_ransac.plot()"
   ]
  },
  {
   "cell_type": "code",
   "execution_count": 120,
   "metadata": {},
   "outputs": [
    {
     "data": {
      "text/plain": [
       "8.55995473818691"
      ]
     },
     "execution_count": 120,
     "metadata": {},
     "output_type": "execute_result"
    }
   ],
   "source": [
    "mae(y_ransac)"
   ]
  },
  {
   "cell_type": "markdown",
   "metadata": {},
   "source": [
    "## For-Loop Neural Network"
   ]
  },
  {
   "cell_type": "code",
   "execution_count": 121,
   "metadata": {},
   "outputs": [],
   "source": [
    "def nn_loop(data, target, testing):\n",
    "    x_train = data.copy()\n",
    "    y_train = target.copy()\n",
    "    result = list()\n",
    "\n",
    "    sgd = optimizers.SGD(lr = 0.001, decay = 1, momentum = 0.99)\n",
    "    \n",
    "    model_z = Sequential()\n",
    "    model_z.add(Dense(units = 64, kernel_initializer = 'uniform',\n",
    "                    activation = 'relu', input_dim = x_train.shape[1]))\n",
    "    #model_z.add(Dense(units = 128, kernel_initializer = 'uniform', activation = 'relu'))\n",
    "    #model_z.add(Dense(units = 64, kernel_initializer = 'uniform', activation = 'relu'))\n",
    "    model_z.add(Dense(units = 1, kernel_initializer = 'uniform', activation = 'linear'))\n",
    "    model_z.save_weights('model.h5')\n",
    "    model_z.compile(optimizer = sgd, loss = 'mae', metrics = ['accuracy'])\n",
    "    \n",
    "    _ = 0\n",
    "    for i in range(testing.shape[0]):\n",
    "        model_z.load_weights('model.h5')\n",
    "        model_z.fit(x_train, y_train, epochs=3)\n",
    "        pred = model_z.predict(testing.iloc[0:1])\n",
    "        #print(pred)\n",
    "        result.append(int(pred[0][0]))\n",
    "        \n",
    "        # Reset training and testing datasets\n",
    "        x_train = np.vstack((x_train[1:], testing.iloc[0:1]))\n",
    "        testing = testing.iloc[1:]\n",
    "        y_train = np.vstack((y_train[1:], int(pred[0][0])))\n",
    "        \n",
    "        # Error prevention code\n",
    "        #_ += 1\n",
    "        #if _ > 5:\n",
    "        #    break\n",
    "    return result"
   ]
  },
  {
   "cell_type": "code",
   "execution_count": 159,
   "metadata": {},
   "outputs": [],
   "source": [
    "#loop_result = nn_loop(x_train, y_train, x_test)"
   ]
  },
  {
   "cell_type": "code",
   "execution_count": 123,
   "metadata": {},
   "outputs": [
    {
     "data": {
      "text/plain": [
       "<matplotlib.axes._subplots.AxesSubplot at 0x1a55bf1390>"
      ]
     },
     "execution_count": 123,
     "metadata": {},
     "output_type": "execute_result"
    },
    {
     "data": {
      "image/png": "[encoded data removed]",
      "text/plain": [
       "<Figure size 432x288 with 1 Axes>"
      ]
     },
     "metadata": {
      "needs_background": "light"
     },
     "output_type": "display_data"
    }
   ],
   "source": [
    "y_nnloop = y_test.copy()\n",
    "#y_nnloop['predicted'] = loop_result\n",
    "y_nnloop.plot()"
   ]
  },
  {
   "cell_type": "code",
   "execution_count": 158,
   "metadata": {},
   "outputs": [],
   "source": [
    "#loop_result"
   ]
  },
  {
   "cell_type": "markdown",
   "metadata": {},
   "source": [
    "# Combining several regression techniques"
   ]
  },
  {
   "cell_type": "code",
   "execution_count": 167,
   "metadata": {},
   "outputs": [
    {
     "data": {
      "text/plain": [
       "7.879457907154284"
      ]
     },
     "execution_count": 167,
     "metadata": {},
     "output_type": "execute_result"
    },
    {
     "data": {
      "image/png": "[encoded data removed]",
      "text/plain": [
       "<Figure size 432x288 with 1 Axes>"
      ]
     },
     "metadata": {
      "needs_background": "light"
     },
     "output_type": "display_data"
    }
   ],
   "source": [
    "y_RansacSvr = y_test.copy()\n",
    "y_RansacSvr['predicted'] = y_svr.predicted * 0.6 + y_ransac.predicted * 0.4\n",
    "y_RansacSvr.plot()\n",
    "mae(y_RansacSvr)"
   ]
  },
  {
   "cell_type": "code",
   "execution_count": 169,
   "metadata": {},
   "outputs": [
    {
     "data": {
      "text/plain": [
       "7.879457907154284"
      ]
     },
     "execution_count": 169,
     "metadata": {},
     "output_type": "execute_result"
    }
   ],
   "source": [
    "mae(y_RansacSvr)"
   ]
  },
  {
   "cell_type": "markdown",
   "metadata": {},
   "source": [
    "## Optimize?"
   ]
  },
  {
   "cell_type": "code",
   "execution_count": null,
   "metadata": {},
   "outputs": [],
   "source": [
    "ratio = 1\n",
    "step = 0.2\n",
    "y_RansacSvr['predicted'] = y_svr.predicted * ratio + y_ransac.predicted * (1 - ratio)\n",
    "current_mae = mae(y_RansacSvr)\n",
    "\n",
    "def ratio_calculate(ratio):\n",
    "    return y_svr.predicted * ratio + y_ransac.predicted * (1 - ratio)\n",
    "\n",
    "def mae2(y_test, predicted):\n",
    "    error = 0\n",
    "    for i in range(y_test.shape[0]):\n",
    "        error += np.abs(y_test.iloc[i] - predicted.iloc[i])\n",
    "    return error / y_test.shape[0]\n",
    "'''\n",
    "for i in range(20):\n",
    "    #print(i)\n",
    "    current_error = mae2(y_test, ratio_calculate(ratio))\n",
    "    if (mae2(y_test, ratio_calculate(ratio + step)) > current_error).values[0]:\n",
    "        current_error = mae2(y_test, ratio_calculate(ratio - step/(i+1)))\n",
    "    else:\n",
    "        current_error = mae2(y_test, ratio_calculate(ratio + step/(i+1)))\n",
    "    print(current_error)\n",
    "'''\n",
    "print(current_mae)"
   ]
  },
  {
   "cell_type": "markdown",
   "metadata": {},
   "source": [
    "# Linear SVR"
   ]
  },
  {
   "cell_type": "code",
   "execution_count": 210,
   "metadata": {},
   "outputs": [],
   "source": [
    "svr = SVR(kernel = 'linear')"
   ]
  },
  {
   "cell_type": "code",
   "execution_count": 211,
   "metadata": {},
   "outputs": [
    {
     "data": {
      "text/html": [
       "<div>\n",
       "<style scoped>\n",
       "    .dataframe tbody tr th:only-of-type {\n",
       "        vertical-align: middle;\n",
       "    }\n",
       "\n",
       "    .dataframe tbody tr th {\n",
       "        vertical-align: top;\n",
       "    }\n",
       "\n",
       "    .dataframe thead th {\n",
       "        text-align: right;\n",
       "    }\n",
       "</style>\n",
       "<table border=\"1\" class=\"dataframe\">\n",
       "  <thead>\n",
       "    <tr style=\"text-align: right;\">\n",
       "      <th></th>\n",
       "      <th>ndvi_ne</th>\n",
       "      <th>ndvi_nw</th>\n",
       "      <th>ndvi_se</th>\n",
       "      <th>ndvi_sw</th>\n",
       "      <th>precipitation_amt_mm</th>\n",
       "      <th>reanalysis_air_temp_k</th>\n",
       "      <th>reanalysis_avg_temp_k</th>\n",
       "      <th>reanalysis_dew_point_temp_k</th>\n",
       "      <th>reanalysis_max_air_temp_k</th>\n",
       "      <th>reanalysis_min_air_temp_k</th>\n",
       "      <th>reanalysis_precip_amt_kg_per_m2</th>\n",
       "      <th>reanalysis_relative_humidity_percent</th>\n",
       "      <th>reanalysis_sat_precip_amt_mm</th>\n",
       "      <th>reanalysis_specific_humidity_g_per_kg</th>\n",
       "      <th>reanalysis_tdtr_k</th>\n",
       "      <th>station_avg_temp_c</th>\n",
       "      <th>station_diur_temp_rng_c</th>\n",
       "      <th>station_max_temp_c</th>\n",
       "      <th>station_min_temp_c</th>\n",
       "      <th>station_precip_mm</th>\n",
       "    </tr>\n",
       "  </thead>\n",
       "  <tbody>\n",
       "    <tr>\n",
       "      <th>0</th>\n",
       "      <td>0.122600</td>\n",
       "      <td>0.103725</td>\n",
       "      <td>0.198483</td>\n",
       "      <td>0.177617</td>\n",
       "      <td>12.42</td>\n",
       "      <td>297.572857</td>\n",
       "      <td>297.742857</td>\n",
       "      <td>292.414286</td>\n",
       "      <td>299.8</td>\n",
       "      <td>295.9</td>\n",
       "      <td>32.00</td>\n",
       "      <td>73.365714</td>\n",
       "      <td>12.42</td>\n",
       "      <td>14.012857</td>\n",
       "      <td>2.628571</td>\n",
       "      <td>25.442857</td>\n",
       "      <td>6.900000</td>\n",
       "      <td>29.4</td>\n",
       "      <td>20.0</td>\n",
       "      <td>16.0</td>\n",
       "    </tr>\n",
       "    <tr>\n",
       "      <th>1</th>\n",
       "      <td>0.169900</td>\n",
       "      <td>0.142175</td>\n",
       "      <td>0.162357</td>\n",
       "      <td>0.155486</td>\n",
       "      <td>22.82</td>\n",
       "      <td>298.211429</td>\n",
       "      <td>298.442857</td>\n",
       "      <td>293.951429</td>\n",
       "      <td>300.9</td>\n",
       "      <td>296.4</td>\n",
       "      <td>17.94</td>\n",
       "      <td>77.368571</td>\n",
       "      <td>22.82</td>\n",
       "      <td>15.372857</td>\n",
       "      <td>2.371429</td>\n",
       "      <td>26.714286</td>\n",
       "      <td>6.371429</td>\n",
       "      <td>31.7</td>\n",
       "      <td>22.2</td>\n",
       "      <td>8.6</td>\n",
       "    </tr>\n",
       "    <tr>\n",
       "      <th>2</th>\n",
       "      <td>0.032250</td>\n",
       "      <td>0.172967</td>\n",
       "      <td>0.157200</td>\n",
       "      <td>0.170843</td>\n",
       "      <td>34.54</td>\n",
       "      <td>298.781429</td>\n",
       "      <td>298.878571</td>\n",
       "      <td>295.434286</td>\n",
       "      <td>300.5</td>\n",
       "      <td>297.3</td>\n",
       "      <td>26.10</td>\n",
       "      <td>82.052857</td>\n",
       "      <td>34.54</td>\n",
       "      <td>16.848571</td>\n",
       "      <td>2.300000</td>\n",
       "      <td>26.714286</td>\n",
       "      <td>6.485714</td>\n",
       "      <td>32.2</td>\n",
       "      <td>22.8</td>\n",
       "      <td>41.4</td>\n",
       "    </tr>\n",
       "    <tr>\n",
       "      <th>3</th>\n",
       "      <td>0.128633</td>\n",
       "      <td>0.245067</td>\n",
       "      <td>0.227557</td>\n",
       "      <td>0.235886</td>\n",
       "      <td>15.36</td>\n",
       "      <td>298.987143</td>\n",
       "      <td>299.228571</td>\n",
       "      <td>295.310000</td>\n",
       "      <td>301.4</td>\n",
       "      <td>297.0</td>\n",
       "      <td>13.90</td>\n",
       "      <td>80.337143</td>\n",
       "      <td>15.36</td>\n",
       "      <td>16.672857</td>\n",
       "      <td>2.428571</td>\n",
       "      <td>27.471429</td>\n",
       "      <td>6.771429</td>\n",
       "      <td>33.3</td>\n",
       "      <td>23.3</td>\n",
       "      <td>4.0</td>\n",
       "    </tr>\n",
       "    <tr>\n",
       "      <th>4</th>\n",
       "      <td>0.196200</td>\n",
       "      <td>0.262200</td>\n",
       "      <td>0.251200</td>\n",
       "      <td>0.247340</td>\n",
       "      <td>7.52</td>\n",
       "      <td>299.518571</td>\n",
       "      <td>299.664286</td>\n",
       "      <td>295.821429</td>\n",
       "      <td>301.9</td>\n",
       "      <td>297.5</td>\n",
       "      <td>12.20</td>\n",
       "      <td>80.460000</td>\n",
       "      <td>7.52</td>\n",
       "      <td>17.210000</td>\n",
       "      <td>3.014286</td>\n",
       "      <td>28.942857</td>\n",
       "      <td>9.371429</td>\n",
       "      <td>35.0</td>\n",
       "      <td>23.9</td>\n",
       "      <td>5.8</td>\n",
       "    </tr>\n",
       "  </tbody>\n",
       "</table>\n",
       "</div>"
      ],
      "text/plain": [
       "    ndvi_ne   ndvi_nw   ndvi_se   ndvi_sw  precipitation_amt_mm  \\\n",
       "0  0.122600  0.103725  0.198483  0.177617                 12.42   \n",
       "1  0.169900  0.142175  0.162357  0.155486                 22.82   \n",
       "2  0.032250  0.172967  0.157200  0.170843                 34.54   \n",
       "3  0.128633  0.245067  0.227557  0.235886                 15.36   \n",
       "4  0.196200  0.262200  0.251200  0.247340                  7.52   \n",
       "\n",
       "   reanalysis_air_temp_k  reanalysis_avg_temp_k  reanalysis_dew_point_temp_k  \\\n",
       "0             297.572857             297.742857                   292.414286   \n",
       "1             298.211429             298.442857                   293.951429   \n",
       "2             298.781429             298.878571                   295.434286   \n",
       "3             298.987143             299.228571                   295.310000   \n",
       "4             299.518571             299.664286                   295.821429   \n",
       "\n",
       "   reanalysis_max_air_temp_k  reanalysis_min_air_temp_k  \\\n",
       "0                      299.8                      295.9   \n",
       "1                      300.9                      296.4   \n",
       "2                      300.5                      297.3   \n",
       "3                      301.4                      297.0   \n",
       "4                      301.9                      297.5   \n",
       "\n",
       "   reanalysis_precip_amt_kg_per_m2  reanalysis_relative_humidity_percent  \\\n",
       "0                            32.00                             73.365714   \n",
       "1                            17.94                             77.368571   \n",
       "2                            26.10                             82.052857   \n",
       "3                            13.90                             80.337143   \n",
       "4                            12.20                             80.460000   \n",
       "\n",
       "   reanalysis_sat_precip_amt_mm  reanalysis_specific_humidity_g_per_kg  \\\n",
       "0                         12.42                              14.012857   \n",
       "1                         22.82                              15.372857   \n",
       "2                         34.54                              16.848571   \n",
       "3                         15.36                              16.672857   \n",
       "4                          7.52                              17.210000   \n",
       "\n",
       "   reanalysis_tdtr_k  station_avg_temp_c  station_diur_temp_rng_c  \\\n",
       "0           2.628571           25.442857                 6.900000   \n",
       "1           2.371429           26.714286                 6.371429   \n",
       "2           2.300000           26.714286                 6.485714   \n",
       "3           2.428571           27.471429                 6.771429   \n",
       "4           3.014286           28.942857                 9.371429   \n",
       "\n",
       "   station_max_temp_c  station_min_temp_c  station_precip_mm  \n",
       "0                29.4                20.0               16.0  \n",
       "1                31.7                22.2                8.6  \n",
       "2                32.2                22.8               41.4  \n",
       "3                33.3                23.3                4.0  \n",
       "4                35.0                23.9                5.8  "
      ]
     },
     "execution_count": 211,
     "metadata": {},
     "output_type": "execute_result"
    }
   ],
   "source": [
    "#sj_stacked = np.vstack((x_train, x_test))\n",
    "#sj_targets = np.vstack((y_train, y_test))\n",
    "x.head()"
   ]
  },
  {
   "cell_type": "code",
   "execution_count": 212,
   "metadata": {},
   "outputs": [],
   "source": [
    "sj_test = sj[sj.total_cases.isnull()].drop('total_cases', axis = 1)\n",
    "sj_test = mean_replace(sj_test)"
   ]
  },
  {
   "cell_type": "code",
   "execution_count": 213,
   "metadata": {},
   "outputs": [],
   "source": [
    "svr_fit = svr.fit(x, y)\n",
    "sj_svr_pred = svr_fit.predict(sj_test)\n",
    "sj_svr_pred = [int(i) for i in sj_svr_pred]"
   ]
  },
  {
   "cell_type": "code",
   "execution_count": 206,
   "metadata": {},
   "outputs": [],
   "source": [
    "svr = SVR(kernel = 'linear')\n",
    "iq_stacked = np.vstack((x_train, x_test))\n",
    "iq_targets = np.vstack((y_train, y_test))\n",
    "iq_test = iq[iq.total_cases.isnull()].drop('total_cases', axis = 1)\n",
    "iq_test = mean_replace(iq_test)"
   ]
  },
  {
   "cell_type": "code",
   "execution_count": 207,
   "metadata": {},
   "outputs": [],
   "source": [
    "svr_fit = svr.fit(iq_stacked, iq_targets)\n",
    "iq_svr_pred = svr_fit.predict(iq_test)\n",
    "iq_svr_pred = [int(i) for i in iq_svr_pred]"
   ]
  },
  {
   "cell_type": "code",
   "execution_count": 214,
   "metadata": {},
   "outputs": [],
   "source": [
    "total_pred = sj_svr_pred.copy()\n",
    "total_pred.extend(iq_svr_pred)"
   ]
  },
  {
   "cell_type": "code",
   "execution_count": 215,
   "metadata": {},
   "outputs": [],
   "source": [
    "sub.total_cases = total_pred"
   ]
  },
  {
   "cell_type": "code",
   "execution_count": 218,
   "metadata": {},
   "outputs": [],
   "source": [
    "sub.to_csv('SVR_trimmed.csv', index = False)"
   ]
  },
  {
   "cell_type": "code",
   "execution_count": 192,
   "metadata": {},
   "outputs": [],
   "source": [
    "sj_temp1 = month_sj.iloc[-lag:].reset_index().drop('index', axis = 1)\n",
    "sj_temp2 = sj[sj.total_cases.isnull()].iloc[:-lag].drop('total_cases', axis = 1)\n",
    "sj_temp2 = mean_replace(sj_temp2)\n",
    "sj_valid = np.vstack((sj_temp1, sj_temp2))"
   ]
  },
  {
   "cell_type": "code",
   "execution_count": 193,
   "metadata": {},
   "outputs": [],
   "source": [
    "iq_temp1 = month_iq.iloc[-lag:].reset_index().drop('index', axis = 1)\n",
    "iq_temp2 = iq[iq.total_cases.isnull()].iloc[:-lag].drop('total_cases', axis = 1)\n",
    "iq_temp2 = mean_replace(iq_temp2)\n",
    "iq_valid = np.vstack((iq_temp1, iq_temp2))"
   ]
  },
  {
   "cell_type": "code",
   "execution_count": 196,
   "metadata": {},
   "outputs": [
    {
     "data": {
      "text/plain": [
       "(260, 20)"
      ]
     },
     "execution_count": 196,
     "metadata": {},
     "output_type": "execute_result"
    }
   ],
   "source": [
    "sj_valid.shape"
   ]
  },
  {
   "cell_type": "code",
   "execution_count": 197,
   "metadata": {},
   "outputs": [
    {
     "data": {
      "text/plain": [
       "(156, 20)"
      ]
     },
     "execution_count": 197,
     "metadata": {},
     "output_type": "execute_result"
    }
   ],
   "source": [
    "iq_valid.shape"
   ]
  },
  {
   "cell_type": "code",
   "execution_count": null,
   "metadata": {},
   "outputs": [],
   "source": []
  }
 ],
 "metadata": {
  "kernelspec": {
   "display_name": "Python 3",
   "language": "python",
   "name": "python3"
  },
  "language_info": {
   "codemirror_mode": {
    "name": "ipython",
    "version": 3
   },
   "file_extension": ".py",
   "mimetype": "text/x-python",
   "name": "python",
   "nbconvert_exporter": "python",
   "pygments_lexer": "ipython3",
   "version": "3.7.4"
  }
 },
 "nbformat": 4,
 "nbformat_minor": 2
}
