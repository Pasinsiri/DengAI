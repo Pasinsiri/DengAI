{
 "cells": [
  {
   "cell_type": "code",
   "execution_count": 1,
   "metadata": {},
   "outputs": [],
   "source": [
    "import numpy as np\n",
    "import pandas as pd\n",
    "from statsmodels.tsa.arima_model import ARIMA\n",
    "import seaborn as sns\n",
    "import matplotlib.pyplot as plt\n",
    "import datetime\n",
    "\n",
    "import warnings\n",
    "warnings.filterwarnings('ignore')"
   ]
  },
  {
   "cell_type": "code",
   "execution_count": 2,
   "metadata": {},
   "outputs": [
    {
     "data": {
      "text/plain": [
       "'/Users/pasin/Competition/DengAI'"
      ]
     },
     "execution_count": 2,
     "metadata": {},
     "output_type": "execute_result"
    }
   ],
   "source": [
    "pwd"
   ]
  },
  {
   "cell_type": "code",
   "execution_count": 3,
   "metadata": {},
   "outputs": [],
   "source": [
    "target = pd.read_csv('dengue_labels_train.csv')\n",
    "data = pd.read_csv('dengue_features_train.csv')\n",
    "validate = pd.read_csv('dengue_features_test.csv')"
   ]
  },
  {
   "cell_type": "code",
   "execution_count": 4,
   "metadata": {},
   "outputs": [],
   "source": [
    "def date_convert2(data):\n",
    "    data['date'] = 0\n",
    "    predate = str(data.loc[0, 'year']) + \"-W\" + str(data.loc[0, 'weekofyear'])\n",
    "    data.loc[0, 'date'] = datetime.datetime.strptime(predate + '-1', \"%Y-W%W-%w\")\n",
    "    for i in range(data.shape[0] - 1):\n",
    "        data.loc[i+1, 'date'] = data.loc[i, 'date'] + datetime.timedelta(days =7)"
   ]
  },
  {
   "cell_type": "code",
   "execution_count": 5,
   "metadata": {},
   "outputs": [],
   "source": [
    "sanjuan = target[target.city == 'sj']\n",
    "iquitos = target[target.city == 'iq']\n",
    "\n",
    "date_convert2(sanjuan)\n",
    "sj_series = sanjuan[['date', 'total_cases']].set_index('date')\n",
    "\n",
    "iquitos = iquitos.reset_index(drop = True)\n",
    "date_convert2(iquitos)\n",
    "iq_series = iquitos[['date', 'total_cases']].set_index('date')"
   ]
  },
  {
   "cell_type": "code",
   "execution_count": 6,
   "metadata": {},
   "outputs": [
    {
     "name": "stdout",
     "output_type": "stream",
     "text": [
      "Length of SJ =  260\n",
      "Length of IQ =  156\n"
     ]
    }
   ],
   "source": [
    "#Split the validate\n",
    "sj_val = validate[validate['city'] == 'sj']\n",
    "iq_val = validate[validate['city'] == 'iq']\n",
    "\n",
    "print('Length of SJ = ', sj_val.shape[0])\n",
    "print('Length of IQ = ', iq_val.shape[0])"
   ]
  },
  {
   "cell_type": "code",
   "execution_count": 7,
   "metadata": {},
   "outputs": [],
   "source": [
    "# Train-Test Split\n",
    "sj_train = sj_series[sj_series.index.year < 2004]\n",
    "sj_test = sj_series[sj_series.index.year > 2003]\n",
    "\n",
    "iq_series_cut = iq_series[iq_series.index.year >= 2002]\n",
    "iq_train = iq_series_cut[iq_series_cut.index.year < 2009]\n",
    "iq_test = iq_series_cut[iq_series_cut.index.year > 2008]"
   ]
  },
  {
   "cell_type": "code",
   "execution_count": 23,
   "metadata": {},
   "outputs": [],
   "source": [
    "#use sj_train, sj_test, iq_train, iq_test\n",
    "\n",
    "#Generate list of hyperparameters\n",
    "hyperp_list = [(1,0,0), (0,0,1)]\n",
    "max_p = 12\n",
    "max_d = 2\n",
    "max_q = 12\n",
    "for i in range(1,max_p+1):\n",
    "    for j in range(max_d+1):\n",
    "        for k in range(1,max_q+1):\n",
    "            hyperp_list.append((i,j,k))"
   ]
  },
  {
   "cell_type": "code",
   "execution_count": 9,
   "metadata": {},
   "outputs": [],
   "source": [
    "from sklearn.metrics import mean_absolute_error\n",
    "\n",
    "def forecasting(data_train, data_test, orders = hyperp_list):\n",
    "    #train_result = dict()\n",
    "    test_result = dict()\n",
    "    for order in orders:\n",
    "        model = ARIMA(data_train, order = order)\n",
    "        try:\n",
    "            model_fit = model.fit()\n",
    "            test_forecast = model_fit.forecast(steps = data_test.shape[0])\n",
    "            test_result[order] = [int(i) for i in test_forecast[0]]\n",
    "            print('The MAE for order {0} = {1}'.format(order, mean_absolute_error(sj_test, test_result[order])))\n",
    "            \n",
    "        except:\n",
    "            pass\n",
    "            #print('The order of {0} is not stationary'.format(order))\n",
    "            \n",
    "    #return test_result"
   ]
  },
  {
   "cell_type": "code",
   "execution_count": 15,
   "metadata": {},
   "outputs": [
    {
     "name": "stdout",
     "output_type": "stream",
     "text": [
      "The MAE for order (1, 0, 0) = 24.445945945945947\n",
      "The MAE for order (0, 0, 1) = 28.12162162162162\n",
      "The MAE for order (1, 0, 1) = 25.24774774774775\n",
      "The MAE for order (1, 0, 2) = 25.73873873873874\n",
      "The MAE for order (1, 0, 3) = 25.66216216216216\n",
      "The MAE for order (1, 0, 4) = 25.87837837837838\n",
      "The MAE for order (1, 0, 5) = 26.05855855855856\n",
      "The MAE for order (1, 0, 6) = 26.13963963963964\n",
      "The MAE for order (1, 0, 7) = 26.175675675675677\n",
      "The MAE for order (1, 0, 8) = 26.43243243243243\n",
      "The MAE for order (1, 0, 9) = 26.45045045045045\n",
      "The MAE for order (1, 0, 10) = 27.07207207207207\n",
      "The MAE for order (1, 0, 11) = 27.076576576576578\n",
      "The MAE for order (1, 0, 12) = 27.09009009009009\n",
      "The MAE for order (1, 1, 1) = 15.752252252252251\n",
      "The MAE for order (1, 1, 2) = 15.882882882882884\n",
      "The MAE for order (1, 2, 1) = 40.792792792792795\n",
      "The MAE for order (1, 2, 2) = 39.734234234234236\n",
      "The MAE for order (1, 2, 3) = 39.92342342342342\n",
      "The MAE for order (1, 2, 4) = 40.44144144144144\n",
      "The MAE for order (1, 2, 5) = 40.653153153153156\n",
      "The MAE for order (1, 2, 6) = 40.82432432432432\n",
      "The MAE for order (1, 2, 7) = 40.288288288288285\n",
      "The MAE for order (1, 2, 8) = 40.085585585585584\n",
      "The MAE for order (2, 0, 1) = 27.31981981981982\n",
      "The MAE for order (2, 0, 2) = 27.33783783783784\n",
      "The MAE for order (2, 0, 4) = 27.2972972972973\n",
      "The MAE for order (2, 0, 8) = 26.995495495495497\n",
      "The MAE for order (2, 0, 9) = 27.234234234234233\n",
      "The MAE for order (2, 1, 1) = 15.837837837837839\n",
      "The MAE for order (2, 1, 2) = 15.855855855855856\n",
      "The MAE for order (2, 2, 1) = 40.873873873873876\n",
      "The MAE for order (2, 2, 2) = 40.48198198198198\n",
      "The MAE for order (2, 2, 3) = 39.5945945945946\n",
      "The MAE for order (2, 2, 4) = 39.9954954954955\n",
      "The MAE for order (2, 2, 5) = 39.207207207207205\n",
      "The MAE for order (2, 2, 6) = 39.648648648648646\n",
      "The MAE for order (2, 2, 7) = 39.16216216216216\n",
      "The MAE for order (2, 2, 8) = 39.5990990990991\n",
      "The MAE for order (3, 0, 1) = 27.346846846846848\n",
      "The MAE for order (3, 0, 2) = 27.346846846846848\n",
      "The MAE for order (3, 1, 1) = 15.86036036036036\n",
      "The MAE for order (3, 1, 2) = 15.617117117117116\n",
      "The MAE for order (3, 1, 3) = 15.72972972972973\n",
      "The MAE for order (3, 2, 1) = 40.531531531531535\n",
      "The MAE for order (3, 2, 2) = 40.56306306306306\n",
      "The MAE for order (3, 2, 3) = 40.351351351351354\n",
      "The MAE for order (3, 2, 4) = 39.846846846846844\n",
      "The MAE for order (3, 2, 5) = 41.14414414414414\n",
      "The MAE for order (3, 2, 6) = 40.472972972972975\n",
      "The MAE for order (3, 2, 7) = 41.36036036036036\n",
      "The MAE for order (3, 2, 8) = 41.734234234234236\n",
      "The MAE for order (4, 0, 1) = 27.33783783783784\n",
      "The MAE for order (4, 1, 1) = 15.64864864864865\n",
      "The MAE for order (4, 1, 2) = 15.67117117117117\n",
      "The MAE for order (4, 1, 3) = 15.666666666666666\n",
      "The MAE for order (4, 1, 4) = 15.635135135135135\n",
      "The MAE for order (4, 2, 1) = 40.6036036036036\n",
      "The MAE for order (4, 2, 2) = 40.97747747747748\n",
      "The MAE for order (4, 2, 3) = 40.4009009009009\n",
      "The MAE for order (4, 2, 4) = 38.009009009009006\n",
      "The MAE for order (4, 2, 5) = 39.765765765765764\n",
      "The MAE for order (4, 2, 6) = 39.909909909909906\n",
      "The MAE for order (4, 2, 7) = 40.013513513513516\n",
      "The MAE for order (4, 2, 8) = 16.545045045045047\n",
      "The MAE for order (5, 0, 1) = 27.36936936936937\n",
      "The MAE for order (5, 1, 1) = 15.67117117117117\n",
      "The MAE for order (5, 1, 2) = 16.585585585585587\n",
      "The MAE for order (5, 1, 3) = 15.707207207207206\n",
      "The MAE for order (5, 1, 4) = 15.734234234234235\n",
      "The MAE for order (5, 1, 5) = 16.57207207207207\n",
      "The MAE for order (5, 1, 6) = 15.891891891891891\n",
      "The MAE for order (5, 2, 1) = 41.887387387387385\n",
      "The MAE for order (5, 2, 2) = 41.36036036036036\n",
      "The MAE for order (5, 2, 3) = 39.24324324324324\n",
      "The MAE for order (5, 2, 4) = 38.788288288288285\n",
      "The MAE for order (5, 2, 5) = 42.9054054054054\n",
      "The MAE for order (6, 0, 1) = 27.364864864864863\n",
      "The MAE for order (6, 0, 2) = 28.08108108108108\n",
      "The MAE for order (6, 0, 3) = 27.85135135135135\n",
      "The MAE for order (6, 0, 4) = 27.55855855855856\n",
      "The MAE for order (6, 1, 1) = 15.752252252252251\n",
      "The MAE for order (6, 1, 2) = 16.22972972972973\n",
      "The MAE for order (6, 1, 3) = 15.617117117117116\n",
      "The MAE for order (6, 1, 4) = 15.666666666666666\n",
      "The MAE for order (6, 1, 5) = 15.76126126126126\n",
      "The MAE for order (6, 1, 6) = 15.725225225225225\n",
      "The MAE for order (6, 2, 1) = 42.33783783783784\n",
      "The MAE for order (6, 2, 2) = 43.35585585585586\n",
      "The MAE for order (6, 2, 3) = 40.35585585585586\n",
      "The MAE for order (6, 2, 4) = 41.77927927927928\n",
      "The MAE for order (6, 2, 5) = 42.770270270270274\n",
      "The MAE for order (7, 0, 1) = 27.17117117117117\n",
      "The MAE for order (7, 0, 2) = 27.32882882882883\n",
      "The MAE for order (7, 0, 3) = 27.18018018018018\n",
      "The MAE for order (7, 0, 4) = 27.38738738738739\n",
      "The MAE for order (7, 1, 1) = 15.765765765765765\n",
      "The MAE for order (7, 1, 2) = 16.73873873873874\n",
      "The MAE for order (7, 1, 3) = 16.815315315315317\n",
      "The MAE for order (7, 1, 4) = 16.58108108108108\n",
      "The MAE for order (7, 1, 5) = 15.72072072072072\n",
      "The MAE for order (7, 1, 6) = 110.27477477477477\n",
      "The MAE for order (7, 1, 7) = 16.66216216216216\n",
      "The MAE for order (7, 2, 1) = 273.92792792792795\n",
      "The MAE for order (7, 2, 2) = 43.328828828828826\n",
      "The MAE for order (7, 2, 3) = 40.4054054054054\n",
      "The MAE for order (8, 0, 1) = 31.97747747747748\n",
      "The MAE for order (8, 0, 2) = 27.315315315315317\n",
      "The MAE for order (8, 0, 4) = 27.4009009009009\n",
      "The MAE for order (8, 1, 1) = 15.774774774774775\n",
      "The MAE for order (8, 1, 2) = 15.662162162162161\n",
      "The MAE for order (8, 1, 3) = 15.68018018018018\n",
      "The MAE for order (8, 1, 4) = 16.63063063063063\n",
      "The MAE for order (8, 1, 5) = 16.54954954954955\n",
      "The MAE for order (8, 1, 6) = 15.734234234234235\n",
      "The MAE for order (8, 1, 8) = 16.4009009009009\n",
      "The MAE for order (8, 2, 1) = 44.5045045045045\n",
      "The MAE for order (8, 2, 2) = 42.648648648648646\n",
      "The MAE for order (8, 2, 3) = 44.0\n",
      "The MAE for order (8, 2, 4) = 44.68018018018018\n",
      "The MAE for order (8, 2, 5) = 40.95495495495496\n",
      "The MAE for order (9, 0, 1) = 27.38738738738739\n",
      "The MAE for order (9, 0, 2) = 27.373873873873872\n",
      "The MAE for order (9, 0, 3) = 27.364864864864863\n",
      "The MAE for order (9, 0, 4) = 26.82882882882883\n",
      "The MAE for order (9, 0, 5) = 27.28828828828829\n",
      "The MAE for order (9, 0, 6) = 27.175675675675677\n",
      "The MAE for order (9, 0, 7) = 28.04954954954955\n",
      "The MAE for order (9, 1, 1) = 16.5990990990991\n",
      "The MAE for order (9, 1, 2) = 16.617117117117118\n",
      "The MAE for order (9, 1, 3) = 16.58108108108108\n",
      "The MAE for order (9, 1, 4) = 16.59009009009009\n",
      "The MAE for order (9, 1, 5) = 16.57207207207207\n",
      "The MAE for order (9, 1, 7) = 16.576576576576578\n",
      "The MAE for order (9, 1, 8) = 16.76126126126126\n",
      "The MAE for order (9, 1, 9) = 16.792792792792792\n",
      "The MAE for order (9, 2, 1) = 40.51801801801802\n",
      "The MAE for order (9, 2, 2) = 22.61261261261261\n",
      "The MAE for order (9, 2, 3) = 44.527027027027025\n",
      "The MAE for order (9, 2, 4) = 44.35585585585586\n",
      "The MAE for order (10, 0, 1) = 27.36036036036036\n",
      "The MAE for order (10, 0, 2) = 27.37837837837838\n",
      "The MAE for order (10, 0, 3) = 27.423423423423422\n",
      "The MAE for order (10, 0, 4) = 27.355855855855857\n",
      "The MAE for order (10, 0, 5) = 27.373873873873872\n",
      "The MAE for order (10, 0, 7) = 28.08108108108108\n",
      "The MAE for order (10, 1, 1) = 16.576576576576578\n",
      "The MAE for order (10, 1, 2) = 16.603603603603602\n",
      "The MAE for order (10, 1, 3) = 16.594594594594593\n",
      "The MAE for order (10, 1, 4) = 16.61261261261261\n",
      "The MAE for order (10, 1, 5) = 16.76126126126126\n",
      "The MAE for order (10, 1, 6) = 16.617117117117118\n",
      "The MAE for order (10, 1, 7) = 16.626126126126128\n",
      "The MAE for order (10, 1, 8) = 21.126126126126128\n",
      "The MAE for order (10, 1, 9) = 16.91891891891892\n",
      "The MAE for order (10, 1, 10) = 16.635135135135137\n",
      "The MAE for order (10, 2, 1) = 39.12162162162162\n",
      "The MAE for order (10, 2, 2) = 41.31981981981982\n",
      "The MAE for order (10, 2, 4) = 31.995495495495497\n",
      "The MAE for order (10, 2, 5) = 36.68468468468468\n",
      "The MAE for order (11, 0, 1) = 27.36036036036036\n",
      "The MAE for order (11, 0, 2) = 27.806306306306308\n",
      "The MAE for order (11, 0, 3) = 27.43243243243243\n",
      "The MAE for order (11, 0, 4) = 27.45945945945946\n",
      "The MAE for order (11, 0, 5) = 27.04954954954955\n",
      "The MAE for order (11, 0, 6) = 27.292792792792792\n",
      "The MAE for order (11, 0, 7) = 27.382882882882882\n",
      "The MAE for order (11, 0, 8) = 27.08108108108108\n",
      "The MAE for order (11, 0, 9) = 27.2027027027027\n"
     ]
    },
    {
     "name": "stdout",
     "output_type": "stream",
     "text": [
      "The MAE for order (11, 0, 10) = 27.513513513513512\n",
      "The MAE for order (11, 1, 1) = 16.58108108108108\n",
      "The MAE for order (11, 1, 2) = 16.56756756756757\n",
      "The MAE for order (11, 1, 3) = 16.59009009009009\n",
      "The MAE for order (11, 1, 4) = 16.5990990990991\n",
      "The MAE for order (11, 1, 5) = 16.756756756756758\n",
      "The MAE for order (11, 1, 6) = 16.33783783783784\n",
      "The MAE for order (11, 1, 7) = 16.75225225225225\n",
      "The MAE for order (11, 1, 8) = 16.72072072072072\n",
      "The MAE for order (11, 1, 9) = 16.743243243243242\n",
      "The MAE for order (11, 1, 10) = 16.896396396396398\n",
      "The MAE for order (11, 1, 11) = 16.815315315315317\n",
      "The MAE for order (11, 2, 1) = 36.833333333333336\n",
      "The MAE for order (11, 2, 2) = 39.828828828828826\n",
      "The MAE for order (11, 2, 3) = 42.072072072072075\n",
      "The MAE for order (11, 2, 4) = 25.153153153153152\n",
      "The MAE for order (11, 2, 5) = 46.16216216216216\n",
      "The MAE for order (11, 2, 6) = 41.927927927927925\n",
      "The MAE for order (12, 0, 1) = 27.13063063063063\n",
      "The MAE for order (12, 0, 2) = 27.22972972972973\n",
      "The MAE for order (12, 0, 3) = 26.99099099099099\n",
      "The MAE for order (12, 0, 4) = 27.265765765765767\n",
      "The MAE for order (12, 0, 5) = 27.14864864864865\n",
      "The MAE for order (12, 0, 6) = 27.945945945945947\n",
      "The MAE for order (12, 0, 7) = 27.554054054054053\n",
      "The MAE for order (12, 0, 8) = 27.126126126126128\n",
      "The MAE for order (12, 0, 9) = 27.414414414414413\n",
      "The MAE for order (12, 0, 10) = 32.270270270270274\n",
      "The MAE for order (12, 1, 1) = 18.076576576576578\n",
      "The MAE for order (12, 1, 2) = 18.07207207207207\n",
      "The MAE for order (12, 1, 3) = 16.60810810810811\n",
      "The MAE for order (12, 1, 4) = 16.603603603603602\n",
      "The MAE for order (12, 1, 5) = 16.666666666666668\n",
      "The MAE for order (12, 1, 6) = 16.653153153153152\n",
      "The MAE for order (12, 1, 7) = 16.774774774774773\n",
      "The MAE for order (12, 1, 8) = 16.67117117117117\n",
      "The MAE for order (12, 1, 9) = 16.815315315315317\n",
      "The MAE for order (12, 1, 10) = 16.873873873873872\n",
      "The MAE for order (12, 1, 11) = 16.815315315315317\n",
      "The MAE for order (12, 1, 12) = 16.554054054054053\n",
      "The MAE for order (12, 2, 1) = 34.054054054054056\n",
      "The MAE for order (12, 2, 2) = 32.049549549549546\n",
      "The MAE for order (12, 2, 3) = 39.770270270270274\n",
      "The MAE for order (12, 2, 4) = 42.414414414414416\n",
      "The MAE for order (12, 2, 5) = 41.689189189189186\n",
      "The MAE for order (12, 2, 6) = 44.61711711711712\n"
     ]
    }
   ],
   "source": [
    "sj_result = forecasting(data_train=sj_train, data_test = sj_test"
   ]
  },
  {
   "cell_type": "code",
   "execution_count": 24,
   "metadata": {},
   "outputs": [],
   "source": [
    "iq_result = forecasting(data_train=iq_train, data_test = iq_test)"
   ]
  },
  {
   "cell_type": "code",
   "execution_count": 34,
   "metadata": {},
   "outputs": [],
   "source": [
    "sj_val = validate[validate['city'] == 'sj']\n",
    "iq_val = validate[validate['city'] == 'iq']"
   ]
  },
  {
   "cell_type": "code",
   "execution_count": 59,
   "metadata": {},
   "outputs": [],
   "source": [
    "# Best parameters for San Juan (all data).\n",
    "best_sj = ARIMA(sj_series, order = (1,1,2))\n",
    "best_predict = best_sj.fit().forecast(steps = sj_val.shape[0])\n",
    "best_predict = [int(round(x)) for x in best_predict[0]]"
   ]
  },
  {
   "cell_type": "code",
   "execution_count": 60,
   "metadata": {},
   "outputs": [
    {
     "data": {
      "text/plain": [
       "[5, 5, 6, 6, 6]"
      ]
     },
     "execution_count": 60,
     "metadata": {},
     "output_type": "execute_result"
    }
   ],
   "source": [
    "best_predict[:5]"
   ]
  },
  {
   "cell_type": "code",
   "execution_count": 37,
   "metadata": {},
   "outputs": [],
   "source": [
    "sub_format = pd.read_csv('submission_format.csv')"
   ]
  },
  {
   "cell_type": "code",
   "execution_count": 55,
   "metadata": {},
   "outputs": [],
   "source": [
    "# IQ\n",
    "iq_model = ARIMA(iq_series_cut, order = (1,0,1))\n",
    "iq_result = iq_model.fit().forecast(steps = iq_val.shape[0])\n",
    "iq_int = [int(round(x)) for x in iq_result[0]]"
   ]
  },
  {
   "cell_type": "code",
   "execution_count": 61,
   "metadata": {},
   "outputs": [],
   "source": [
    "all_submission = np.hstack((best_predict, iq_int))"
   ]
  },
  {
   "cell_type": "code",
   "execution_count": 62,
   "metadata": {},
   "outputs": [],
   "source": [
    "sub_format.total_cases = all_submission"
   ]
  },
  {
   "cell_type": "code",
   "execution_count": 63,
   "metadata": {},
   "outputs": [],
   "source": [
    "sub_format.to_csv('model_1.csv', index = False)"
   ]
  },
  {
   "cell_type": "code",
   "execution_count": null,
   "metadata": {},
   "outputs": [],
   "source": []
  }
 ],
 "metadata": {
  "kernelspec": {
   "display_name": "Python 3",
   "language": "python",
   "name": "python3"
  },
  "language_info": {
   "codemirror_mode": {
    "name": "ipython",
    "version": 3
   },
   "file_extension": ".py",
   "mimetype": "text/x-python",
   "name": "python",
   "nbconvert_exporter": "python",
   "pygments_lexer": "ipython3",
   "version": "3.7.4"
  }
 },
 "nbformat": 4,
 "nbformat_minor": 2
}
