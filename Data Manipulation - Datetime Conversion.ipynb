{
 "cells": [
  {
   "cell_type": "code",
   "execution_count": 2,
   "metadata": {},
   "outputs": [],
   "source": [
    "import warnings\n",
    "warnings.filterwarnings('ignore')\n",
    "\n",
    "import numpy as np\n",
    "import pandas as pd\n",
    "import tensorflow as tf\n",
    "import keras\n",
    "import matplotlib.pyplot as plt\n",
    "import datetime"
   ]
  },
  {
   "cell_type": "code",
   "execution_count": 3,
   "metadata": {},
   "outputs": [],
   "source": [
    "target = pd.read_csv('dengue_labels_train.csv')\n",
    "data = pd.read_csv('dengue_features_train.csv')\n",
    "validate = pd.read_csv('dengue_features_test.csv')"
   ]
  },
  {
   "cell_type": "code",
   "execution_count": 4,
   "metadata": {},
   "outputs": [],
   "source": [
    "def date_convert(data):\n",
    "    data['date'] = 0\n",
    "    predate = str(data.loc[0, 'year']) + \"-W\" + str(data.loc[0, 'weekofyear'])\n",
    "    data.loc[0, 'date'] = datetime.datetime.strptime(predate + '-1', \"%Y-W%W-%w\")\n",
    "    for i in range(data.shape[0] - 1):\n",
    "        data.loc[i+1, 'date'] = data.loc[i, 'date'] + datetime.timedelta(days =7)\n",
    "        \n",
    "def date_convert2(data):\n",
    "    data['date'] = 0\n",
    "    for i in range(data.shape[0]):\n",
    "        data.loc[i,'date'] = datetime.datetime.strptime(data.loc[i,'week_start_date'],\n",
    "                                                        '%Y-%m-%d')"
   ]
  },
  {
   "cell_type": "code",
   "execution_count": 5,
   "metadata": {},
   "outputs": [],
   "source": [
    "date_convert2(data)\n",
    "date_convert2(validate)"
   ]
  },
  {
   "cell_type": "code",
   "execution_count": 6,
   "metadata": {},
   "outputs": [],
   "source": [
    "sj_data = data.loc[data.city == 'sj']\n",
    "iq_data = data.loc[data.city == 'iq']\n",
    "sj_y_train = target.loc[target.city == 'sj'].total_cases\n",
    "iq_y_train = target.loc[target.city == 'iq'].total_cases\n",
    "sj_data['total_cases'] = sj_y_train\n",
    "iq_data['total_cases'] = iq_y_train\n",
    "iq_data = iq_data.reset_index().drop('index', axis = 1)\n",
    "\n",
    "sj_valid = validate.loc[validate.city == 'sj']\n",
    "iq_valid = validate.loc[validate.city == 'iq']"
   ]
  },
  {
   "cell_type": "code",
   "execution_count": 7,
   "metadata": {},
   "outputs": [],
   "source": [
    "sj_data = sj_data.drop(['city', 'year', \n",
    "                        'weekofyear', 'week_start_date'], axis = 1).set_index('date')\n",
    "iq_data = iq_data.drop(['city', 'year', \n",
    "                      'weekofyear', 'week_start_date'], axis = 1).set_index('date')\n",
    "sj_valid = sj_valid.drop(['city', 'year', \n",
    "                        'weekofyear', 'week_start_date'], axis = 1).set_index('date')\n",
    "iq_valid = iq_valid.drop(['city', 'year', \n",
    "                      'weekofyear', 'week_start_date'], axis = 1).set_index('date')"
   ]
  },
  {
   "cell_type": "code",
   "execution_count": 8,
   "metadata": {},
   "outputs": [],
   "source": [
    "sj_valid['total_cases'] = np.nan\n",
    "iq_valid['total_cases'] = np.nan"
   ]
  },
  {
   "cell_type": "code",
   "execution_count": 9,
   "metadata": {},
   "outputs": [],
   "source": [
    "sj_all = pd.DataFrame(np.vstack([sj_data, sj_valid]))\n",
    "sj_all.columns = sj_data.columns\n",
    "\n",
    "iq_all = pd.DataFrame(np.vstack([iq_data, iq_valid]))\n",
    "iq_all.columns = iq_data.columns"
   ]
  },
  {
   "cell_type": "code",
   "execution_count": 10,
   "metadata": {},
   "outputs": [
    {
     "data": {
      "text/plain": [
       "ndvi_ne                                  234\n",
       "ndvi_nw                                   60\n",
       "ndvi_se                                   20\n",
       "ndvi_sw                                   20\n",
       "precipitation_amt_mm                      11\n",
       "reanalysis_air_temp_k                      8\n",
       "reanalysis_avg_temp_k                      8\n",
       "reanalysis_dew_point_temp_k                8\n",
       "reanalysis_max_air_temp_k                  8\n",
       "reanalysis_min_air_temp_k                  8\n",
       "reanalysis_precip_amt_kg_per_m2            8\n",
       "reanalysis_relative_humidity_percent       8\n",
       "reanalysis_sat_precip_amt_mm              11\n",
       "reanalysis_specific_humidity_g_per_kg      8\n",
       "reanalysis_tdtr_k                          8\n",
       "station_avg_temp_c                         8\n",
       "station_diur_temp_rng_c                    8\n",
       "station_max_temp_c                         8\n",
       "station_min_temp_c                         8\n",
       "station_precip_mm                          8\n",
       "total_cases                              260\n",
       "dtype: int64"
      ]
     },
     "execution_count": 10,
     "metadata": {},
     "output_type": "execute_result"
    }
   ],
   "source": [
    "sj_all.isnull().sum()"
   ]
  },
  {
   "cell_type": "code",
   "execution_count": 11,
   "metadata": {},
   "outputs": [
    {
     "data": {
      "text/plain": [
       "ndvi_ne                                    3\n",
       "ndvi_nw                                    3\n",
       "ndvi_se                                    3\n",
       "ndvi_sw                                    3\n",
       "precipitation_amt_mm                       4\n",
       "reanalysis_air_temp_k                      4\n",
       "reanalysis_avg_temp_k                      4\n",
       "reanalysis_dew_point_temp_k                4\n",
       "reanalysis_max_air_temp_k                  4\n",
       "reanalysis_min_air_temp_k                  4\n",
       "reanalysis_precip_amt_kg_per_m2            4\n",
       "reanalysis_relative_humidity_percent       4\n",
       "reanalysis_sat_precip_amt_mm               4\n",
       "reanalysis_specific_humidity_g_per_kg      4\n",
       "reanalysis_tdtr_k                          4\n",
       "station_avg_temp_c                        47\n",
       "station_diur_temp_rng_c                   47\n",
       "station_max_temp_c                        15\n",
       "station_min_temp_c                        15\n",
       "station_precip_mm                         19\n",
       "total_cases                              156\n",
       "dtype: int64"
      ]
     },
     "execution_count": 11,
     "metadata": {},
     "output_type": "execute_result"
    }
   ],
   "source": [
    "iq_all.isnull().sum()"
   ]
  },
  {
   "cell_type": "markdown",
   "metadata": {},
   "source": [
    "For San Juan, let's test the correlations between total_cases and all ndvi data. Since the ndvi data contain a lot of missing values, I will neglect them if they do not have any sign of correlation with the total_cases variable."
   ]
  },
  {
   "cell_type": "code",
   "execution_count": 12,
   "metadata": {},
   "outputs": [],
   "source": [
    "ndvi = sj_data[['ndvi_ne', 'ndvi_nw', 'ndvi_se', 'ndvi_sw']]\n",
    "series = target[target.city == 'sj'].total_cases\n",
    "ndvi['total_cases'] = series.values"
   ]
  },
  {
   "cell_type": "code",
   "execution_count": 13,
   "metadata": {},
   "outputs": [],
   "source": [
    "ndvi = ndvi.dropna(axis = 0)"
   ]
  },
  {
   "cell_type": "code",
   "execution_count": 14,
   "metadata": {},
   "outputs": [
    {
     "data": {
      "image/png": "[encoded data removed]",
      "text/plain": [
       "<Figure size 720x432 with 2 Axes>"
      ]
     },
     "metadata": {
      "needs_background": "light"
     },
     "output_type": "display_data"
    }
   ],
   "source": [
    "# Correlation Test\n",
    "import seaborn as sns\n",
    "plt.figure(figsize = (10,6))\n",
    "ndvi_corr = ndvi.corr()\n",
    "sns.heatmap(ndvi_corr, annot = True)\n",
    "plt.show()"
   ]
  },
  {
   "cell_type": "code",
   "execution_count": 15,
   "metadata": {},
   "outputs": [
    {
     "data": {
      "text/html": [
       "<div>\n",
       "<style scoped>\n",
       "    .dataframe tbody tr th:only-of-type {\n",
       "        vertical-align: middle;\n",
       "    }\n",
       "\n",
       "    .dataframe tbody tr th {\n",
       "        vertical-align: top;\n",
       "    }\n",
       "\n",
       "    .dataframe thead th {\n",
       "        text-align: right;\n",
       "    }\n",
       "</style>\n",
       "<table border=\"1\" class=\"dataframe\">\n",
       "  <thead>\n",
       "    <tr style=\"text-align: right;\">\n",
       "      <th></th>\n",
       "      <th>ndvi_ne</th>\n",
       "      <th>ndvi_nw</th>\n",
       "      <th>ndvi_se</th>\n",
       "      <th>ndvi_sw</th>\n",
       "      <th>total_cases</th>\n",
       "    </tr>\n",
       "  </thead>\n",
       "  <tbody>\n",
       "    <tr>\n",
       "      <th>ndvi_ne</th>\n",
       "      <td>1.000000</td>\n",
       "      <td>0.673037</td>\n",
       "      <td>0.231922</td>\n",
       "      <td>0.176511</td>\n",
       "      <td>0.034179</td>\n",
       "    </tr>\n",
       "    <tr>\n",
       "      <th>ndvi_nw</th>\n",
       "      <td>0.673037</td>\n",
       "      <td>1.000000</td>\n",
       "      <td>0.192755</td>\n",
       "      <td>0.219379</td>\n",
       "      <td>0.085682</td>\n",
       "    </tr>\n",
       "    <tr>\n",
       "      <th>ndvi_se</th>\n",
       "      <td>0.231922</td>\n",
       "      <td>0.192755</td>\n",
       "      <td>1.000000</td>\n",
       "      <td>0.827828</td>\n",
       "      <td>-0.005817</td>\n",
       "    </tr>\n",
       "    <tr>\n",
       "      <th>ndvi_sw</th>\n",
       "      <td>0.176511</td>\n",
       "      <td>0.219379</td>\n",
       "      <td>0.827828</td>\n",
       "      <td>1.000000</td>\n",
       "      <td>-0.003785</td>\n",
       "    </tr>\n",
       "    <tr>\n",
       "      <th>total_cases</th>\n",
       "      <td>0.034179</td>\n",
       "      <td>0.085682</td>\n",
       "      <td>-0.005817</td>\n",
       "      <td>-0.003785</td>\n",
       "      <td>1.000000</td>\n",
       "    </tr>\n",
       "  </tbody>\n",
       "</table>\n",
       "</div>"
      ],
      "text/plain": [
       "              ndvi_ne   ndvi_nw   ndvi_se   ndvi_sw  total_cases\n",
       "ndvi_ne      1.000000  0.673037  0.231922  0.176511     0.034179\n",
       "ndvi_nw      0.673037  1.000000  0.192755  0.219379     0.085682\n",
       "ndvi_se      0.231922  0.192755  1.000000  0.827828    -0.005817\n",
       "ndvi_sw      0.176511  0.219379  0.827828  1.000000    -0.003785\n",
       "total_cases  0.034179  0.085682 -0.005817 -0.003785     1.000000"
      ]
     },
     "execution_count": 15,
     "metadata": {},
     "output_type": "execute_result"
    }
   ],
   "source": [
    "ndvi_corr"
   ]
  },
  {
   "cell_type": "markdown",
   "metadata": {},
   "source": [
    "The correlation coefficients between total_cases and every ndvi variable is very little, so let's drop those features for now."
   ]
  },
  {
   "cell_type": "markdown",
   "metadata": {},
   "source": [
    "For Iquitos, check correlation between total_cases and station data."
   ]
  },
  {
   "cell_type": "code",
   "execution_count": 16,
   "metadata": {},
   "outputs": [],
   "source": [
    "iq_station = iq_data[[col for col in iq_all.columns if col[:4] == 'stat']]\n",
    "iq_station['total_cases'] = target[target.city == 'iq'].total_cases.values"
   ]
  },
  {
   "cell_type": "code",
   "execution_count": 17,
   "metadata": {},
   "outputs": [
    {
     "data": {
      "text/plain": [
       "<matplotlib.axes._subplots.AxesSubplot at 0x1a3d701150>"
      ]
     },
     "execution_count": 17,
     "metadata": {},
     "output_type": "execute_result"
    },
    {
     "data": {
      "image/png": "[encoded data removed]",
      "text/plain": [
       "<Figure size 432x288 with 2 Axes>"
      ]
     },
     "metadata": {
      "needs_background": "light"
     },
     "output_type": "display_data"
    }
   ],
   "source": [
    "corr_iqstation = iq_station.corr()\n",
    "sns.heatmap(corr_iqstation, annot = True)"
   ]
  },
  {
   "cell_type": "code",
   "execution_count": 18,
   "metadata": {},
   "outputs": [
    {
     "data": {
      "text/html": [
       "<div>\n",
       "<style scoped>\n",
       "    .dataframe tbody tr th:only-of-type {\n",
       "        vertical-align: middle;\n",
       "    }\n",
       "\n",
       "    .dataframe tbody tr th {\n",
       "        vertical-align: top;\n",
       "    }\n",
       "\n",
       "    .dataframe thead th {\n",
       "        text-align: right;\n",
       "    }\n",
       "</style>\n",
       "<table border=\"1\" class=\"dataframe\">\n",
       "  <thead>\n",
       "    <tr style=\"text-align: right;\">\n",
       "      <th></th>\n",
       "      <th>station_avg_temp_c</th>\n",
       "      <th>station_diur_temp_rng_c</th>\n",
       "      <th>station_max_temp_c</th>\n",
       "      <th>station_min_temp_c</th>\n",
       "      <th>station_precip_mm</th>\n",
       "      <th>total_cases</th>\n",
       "    </tr>\n",
       "  </thead>\n",
       "  <tbody>\n",
       "    <tr>\n",
       "      <th>station_avg_temp_c</th>\n",
       "      <td>1.000000</td>\n",
       "      <td>0.503965</td>\n",
       "      <td>0.658591</td>\n",
       "      <td>0.460419</td>\n",
       "      <td>-0.062609</td>\n",
       "      <td>0.113070</td>\n",
       "    </tr>\n",
       "    <tr>\n",
       "      <th>station_diur_temp_rng_c</th>\n",
       "      <td>0.503965</td>\n",
       "      <td>1.000000</td>\n",
       "      <td>0.665672</td>\n",
       "      <td>-0.273421</td>\n",
       "      <td>-0.270896</td>\n",
       "      <td>-0.058230</td>\n",
       "    </tr>\n",
       "    <tr>\n",
       "      <th>station_max_temp_c</th>\n",
       "      <td>0.658591</td>\n",
       "      <td>0.665672</td>\n",
       "      <td>1.000000</td>\n",
       "      <td>0.111946</td>\n",
       "      <td>-0.148968</td>\n",
       "      <td>0.075279</td>\n",
       "    </tr>\n",
       "    <tr>\n",
       "      <th>station_min_temp_c</th>\n",
       "      <td>0.460419</td>\n",
       "      <td>-0.273421</td>\n",
       "      <td>0.111946</td>\n",
       "      <td>1.000000</td>\n",
       "      <td>0.191378</td>\n",
       "      <td>0.211702</td>\n",
       "    </tr>\n",
       "    <tr>\n",
       "      <th>station_precip_mm</th>\n",
       "      <td>-0.062609</td>\n",
       "      <td>-0.270896</td>\n",
       "      <td>-0.148968</td>\n",
       "      <td>0.191378</td>\n",
       "      <td>1.000000</td>\n",
       "      <td>0.042976</td>\n",
       "    </tr>\n",
       "    <tr>\n",
       "      <th>total_cases</th>\n",
       "      <td>0.113070</td>\n",
       "      <td>-0.058230</td>\n",
       "      <td>0.075279</td>\n",
       "      <td>0.211702</td>\n",
       "      <td>0.042976</td>\n",
       "      <td>1.000000</td>\n",
       "    </tr>\n",
       "  </tbody>\n",
       "</table>\n",
       "</div>"
      ],
      "text/plain": [
       "                         station_avg_temp_c  station_diur_temp_rng_c  \\\n",
       "station_avg_temp_c                 1.000000                 0.503965   \n",
       "station_diur_temp_rng_c            0.503965                 1.000000   \n",
       "station_max_temp_c                 0.658591                 0.665672   \n",
       "station_min_temp_c                 0.460419                -0.273421   \n",
       "station_precip_mm                 -0.062609                -0.270896   \n",
       "total_cases                        0.113070                -0.058230   \n",
       "\n",
       "                         station_max_temp_c  station_min_temp_c  \\\n",
       "station_avg_temp_c                 0.658591            0.460419   \n",
       "station_diur_temp_rng_c            0.665672           -0.273421   \n",
       "station_max_temp_c                 1.000000            0.111946   \n",
       "station_min_temp_c                 0.111946            1.000000   \n",
       "station_precip_mm                 -0.148968            0.191378   \n",
       "total_cases                        0.075279            0.211702   \n",
       "\n",
       "                         station_precip_mm  total_cases  \n",
       "station_avg_temp_c               -0.062609     0.113070  \n",
       "station_diur_temp_rng_c          -0.270896    -0.058230  \n",
       "station_max_temp_c               -0.148968     0.075279  \n",
       "station_min_temp_c                0.191378     0.211702  \n",
       "station_precip_mm                 1.000000     0.042976  \n",
       "total_cases                       0.042976     1.000000  "
      ]
     },
     "execution_count": 18,
     "metadata": {},
     "output_type": "execute_result"
    }
   ],
   "source": [
    "corr_iqstation"
   ]
  },
  {
   "cell_type": "code",
   "execution_count": 19,
   "metadata": {},
   "outputs": [
    {
     "data": {
      "text/plain": [
       "<Figure size 1440x1152 with 0 Axes>"
      ]
     },
     "metadata": {},
     "output_type": "display_data"
    },
    {
     "data": {
      "image/png": "[encoded data removed]",
      "text/plain": [
       "<Figure size 432x288 with 2 Axes>"
      ]
     },
     "metadata": {
      "needs_background": "light"
     },
     "output_type": "display_data"
    }
   ],
   "source": [
    "# Line Plot\n",
    "plt.figure(figsize = (20,16))\n",
    "fig, ax = plt.subplots(2,1, sharey=False)\n",
    "ax[0].plot(sj_y_train)\n",
    "ax[1].plot(iq_y_train)\n",
    "plt.show()"
   ]
  },
  {
   "cell_type": "code",
   "execution_count": 20,
   "metadata": {},
   "outputs": [],
   "source": [
    "sj_date = np.hstack([sj_data.index, sj_valid.index])\n",
    "iq_date = np.hstack([iq_data.index, iq_valid.index])\n",
    "\n",
    "sj_all.index = sj_date\n",
    "iq_all.index = iq_date\n",
    "\n",
    "sj_y_train.index = sj_data.index\n",
    "iq_y_train.index = iq_data.index"
   ]
  },
  {
   "cell_type": "code",
   "execution_count": 21,
   "metadata": {},
   "outputs": [
    {
     "data": {
      "text/html": [
       "<div>\n",
       "<style scoped>\n",
       "    .dataframe tbody tr th:only-of-type {\n",
       "        vertical-align: middle;\n",
       "    }\n",
       "\n",
       "    .dataframe tbody tr th {\n",
       "        vertical-align: top;\n",
       "    }\n",
       "\n",
       "    .dataframe thead th {\n",
       "        text-align: right;\n",
       "    }\n",
       "</style>\n",
       "<table border=\"1\" class=\"dataframe\">\n",
       "  <thead>\n",
       "    <tr style=\"text-align: right;\">\n",
       "      <th></th>\n",
       "      <th>ndvi_ne</th>\n",
       "      <th>ndvi_nw</th>\n",
       "      <th>ndvi_se</th>\n",
       "      <th>ndvi_sw</th>\n",
       "      <th>precipitation_amt_mm</th>\n",
       "      <th>reanalysis_air_temp_k</th>\n",
       "      <th>reanalysis_avg_temp_k</th>\n",
       "      <th>reanalysis_dew_point_temp_k</th>\n",
       "      <th>reanalysis_max_air_temp_k</th>\n",
       "      <th>reanalysis_min_air_temp_k</th>\n",
       "      <th>...</th>\n",
       "      <th>reanalysis_relative_humidity_percent</th>\n",
       "      <th>reanalysis_sat_precip_amt_mm</th>\n",
       "      <th>reanalysis_specific_humidity_g_per_kg</th>\n",
       "      <th>reanalysis_tdtr_k</th>\n",
       "      <th>station_avg_temp_c</th>\n",
       "      <th>station_diur_temp_rng_c</th>\n",
       "      <th>station_max_temp_c</th>\n",
       "      <th>station_min_temp_c</th>\n",
       "      <th>station_precip_mm</th>\n",
       "      <th>total_cases</th>\n",
       "    </tr>\n",
       "  </thead>\n",
       "  <tbody>\n",
       "    <tr>\n",
       "      <th>1990-04-30</th>\n",
       "      <td>0.122600</td>\n",
       "      <td>0.103725</td>\n",
       "      <td>0.198483</td>\n",
       "      <td>0.177617</td>\n",
       "      <td>12.42</td>\n",
       "      <td>297.572857</td>\n",
       "      <td>297.742857</td>\n",
       "      <td>292.414286</td>\n",
       "      <td>299.8</td>\n",
       "      <td>295.9</td>\n",
       "      <td>...</td>\n",
       "      <td>73.365714</td>\n",
       "      <td>12.42</td>\n",
       "      <td>14.012857</td>\n",
       "      <td>2.628571</td>\n",
       "      <td>25.442857</td>\n",
       "      <td>6.900000</td>\n",
       "      <td>29.4</td>\n",
       "      <td>20.0</td>\n",
       "      <td>16.0</td>\n",
       "      <td>4.0</td>\n",
       "    </tr>\n",
       "    <tr>\n",
       "      <th>1990-05-07</th>\n",
       "      <td>0.169900</td>\n",
       "      <td>0.142175</td>\n",
       "      <td>0.162357</td>\n",
       "      <td>0.155486</td>\n",
       "      <td>22.82</td>\n",
       "      <td>298.211429</td>\n",
       "      <td>298.442857</td>\n",
       "      <td>293.951429</td>\n",
       "      <td>300.9</td>\n",
       "      <td>296.4</td>\n",
       "      <td>...</td>\n",
       "      <td>77.368571</td>\n",
       "      <td>22.82</td>\n",
       "      <td>15.372857</td>\n",
       "      <td>2.371429</td>\n",
       "      <td>26.714286</td>\n",
       "      <td>6.371429</td>\n",
       "      <td>31.7</td>\n",
       "      <td>22.2</td>\n",
       "      <td>8.6</td>\n",
       "      <td>5.0</td>\n",
       "    </tr>\n",
       "    <tr>\n",
       "      <th>1990-05-14</th>\n",
       "      <td>0.032250</td>\n",
       "      <td>0.172967</td>\n",
       "      <td>0.157200</td>\n",
       "      <td>0.170843</td>\n",
       "      <td>34.54</td>\n",
       "      <td>298.781429</td>\n",
       "      <td>298.878571</td>\n",
       "      <td>295.434286</td>\n",
       "      <td>300.5</td>\n",
       "      <td>297.3</td>\n",
       "      <td>...</td>\n",
       "      <td>82.052857</td>\n",
       "      <td>34.54</td>\n",
       "      <td>16.848571</td>\n",
       "      <td>2.300000</td>\n",
       "      <td>26.714286</td>\n",
       "      <td>6.485714</td>\n",
       "      <td>32.2</td>\n",
       "      <td>22.8</td>\n",
       "      <td>41.4</td>\n",
       "      <td>4.0</td>\n",
       "    </tr>\n",
       "    <tr>\n",
       "      <th>1990-05-21</th>\n",
       "      <td>0.128633</td>\n",
       "      <td>0.245067</td>\n",
       "      <td>0.227557</td>\n",
       "      <td>0.235886</td>\n",
       "      <td>15.36</td>\n",
       "      <td>298.987143</td>\n",
       "      <td>299.228571</td>\n",
       "      <td>295.310000</td>\n",
       "      <td>301.4</td>\n",
       "      <td>297.0</td>\n",
       "      <td>...</td>\n",
       "      <td>80.337143</td>\n",
       "      <td>15.36</td>\n",
       "      <td>16.672857</td>\n",
       "      <td>2.428571</td>\n",
       "      <td>27.471429</td>\n",
       "      <td>6.771429</td>\n",
       "      <td>33.3</td>\n",
       "      <td>23.3</td>\n",
       "      <td>4.0</td>\n",
       "      <td>3.0</td>\n",
       "    </tr>\n",
       "    <tr>\n",
       "      <th>1990-05-28</th>\n",
       "      <td>0.196200</td>\n",
       "      <td>0.262200</td>\n",
       "      <td>0.251200</td>\n",
       "      <td>0.247340</td>\n",
       "      <td>7.52</td>\n",
       "      <td>299.518571</td>\n",
       "      <td>299.664286</td>\n",
       "      <td>295.821429</td>\n",
       "      <td>301.9</td>\n",
       "      <td>297.5</td>\n",
       "      <td>...</td>\n",
       "      <td>80.460000</td>\n",
       "      <td>7.52</td>\n",
       "      <td>17.210000</td>\n",
       "      <td>3.014286</td>\n",
       "      <td>28.942857</td>\n",
       "      <td>9.371429</td>\n",
       "      <td>35.0</td>\n",
       "      <td>23.9</td>\n",
       "      <td>5.8</td>\n",
       "      <td>6.0</td>\n",
       "    </tr>\n",
       "  </tbody>\n",
       "</table>\n",
       "<p>5 rows × 21 columns</p>\n",
       "</div>"
      ],
      "text/plain": [
       "             ndvi_ne   ndvi_nw   ndvi_se   ndvi_sw  precipitation_amt_mm  \\\n",
       "1990-04-30  0.122600  0.103725  0.198483  0.177617                 12.42   \n",
       "1990-05-07  0.169900  0.142175  0.162357  0.155486                 22.82   \n",
       "1990-05-14  0.032250  0.172967  0.157200  0.170843                 34.54   \n",
       "1990-05-21  0.128633  0.245067  0.227557  0.235886                 15.36   \n",
       "1990-05-28  0.196200  0.262200  0.251200  0.247340                  7.52   \n",
       "\n",
       "            reanalysis_air_temp_k  reanalysis_avg_temp_k  \\\n",
       "1990-04-30             297.572857             297.742857   \n",
       "1990-05-07             298.211429             298.442857   \n",
       "1990-05-14             298.781429             298.878571   \n",
       "1990-05-21             298.987143             299.228571   \n",
       "1990-05-28             299.518571             299.664286   \n",
       "\n",
       "            reanalysis_dew_point_temp_k  reanalysis_max_air_temp_k  \\\n",
       "1990-04-30                   292.414286                      299.8   \n",
       "1990-05-07                   293.951429                      300.9   \n",
       "1990-05-14                   295.434286                      300.5   \n",
       "1990-05-21                   295.310000                      301.4   \n",
       "1990-05-28                   295.821429                      301.9   \n",
       "\n",
       "            reanalysis_min_air_temp_k  ...  \\\n",
       "1990-04-30                      295.9  ...   \n",
       "1990-05-07                      296.4  ...   \n",
       "1990-05-14                      297.3  ...   \n",
       "1990-05-21                      297.0  ...   \n",
       "1990-05-28                      297.5  ...   \n",
       "\n",
       "            reanalysis_relative_humidity_percent  \\\n",
       "1990-04-30                             73.365714   \n",
       "1990-05-07                             77.368571   \n",
       "1990-05-14                             82.052857   \n",
       "1990-05-21                             80.337143   \n",
       "1990-05-28                             80.460000   \n",
       "\n",
       "            reanalysis_sat_precip_amt_mm  \\\n",
       "1990-04-30                         12.42   \n",
       "1990-05-07                         22.82   \n",
       "1990-05-14                         34.54   \n",
       "1990-05-21                         15.36   \n",
       "1990-05-28                          7.52   \n",
       "\n",
       "            reanalysis_specific_humidity_g_per_kg  reanalysis_tdtr_k  \\\n",
       "1990-04-30                              14.012857           2.628571   \n",
       "1990-05-07                              15.372857           2.371429   \n",
       "1990-05-14                              16.848571           2.300000   \n",
       "1990-05-21                              16.672857           2.428571   \n",
       "1990-05-28                              17.210000           3.014286   \n",
       "\n",
       "            station_avg_temp_c  station_diur_temp_rng_c  station_max_temp_c  \\\n",
       "1990-04-30           25.442857                 6.900000                29.4   \n",
       "1990-05-07           26.714286                 6.371429                31.7   \n",
       "1990-05-14           26.714286                 6.485714                32.2   \n",
       "1990-05-21           27.471429                 6.771429                33.3   \n",
       "1990-05-28           28.942857                 9.371429                35.0   \n",
       "\n",
       "            station_min_temp_c  station_precip_mm  total_cases  \n",
       "1990-04-30                20.0               16.0          4.0  \n",
       "1990-05-07                22.2                8.6          5.0  \n",
       "1990-05-14                22.8               41.4          4.0  \n",
       "1990-05-21                23.3                4.0          3.0  \n",
       "1990-05-28                23.9                5.8          6.0  \n",
       "\n",
       "[5 rows x 21 columns]"
      ]
     },
     "execution_count": 21,
     "metadata": {},
     "output_type": "execute_result"
    }
   ],
   "source": [
    "sj_all.head()"
   ]
  },
  {
   "cell_type": "code",
   "execution_count": 27,
   "metadata": {},
   "outputs": [],
   "source": [
    "# Save it first\n",
    "sj_y_train.to_csv('SanJuan_label.csv', index = True)\n",
    "iq_y_train.to_csv('Iquitos_label.csv', index = True)\n",
    "\n",
    "sj_all.to_excel('SanJuan_all.xlsx', index = True)\n",
    "iq_all.to_excel('Iquitos_all.xlsx', index = True)"
   ]
  },
  {
   "cell_type": "markdown",
   "metadata": {},
   "source": [
    "# Data Preprocessing - Missing Value Manipulation"
   ]
  },
  {
   "cell_type": "code",
   "execution_count": 22,
   "metadata": {},
   "outputs": [
    {
     "data": {
      "text/plain": [
       "Int64Index([4, 5, 6, 7, 8, 9, 10, 11, 12, 1, 2, 3], dtype='int64')"
      ]
     },
     "execution_count": 22,
     "metadata": {},
     "output_type": "execute_result"
    }
   ],
   "source": [
    "sj_all.index.month.unique()"
   ]
  },
  {
   "cell_type": "code",
   "execution_count": 23,
   "metadata": {},
   "outputs": [
    {
     "name": "stdout",
     "output_type": "stream",
     "text": [
      "Average Number per month in San Juan: \n",
      "Month #1 = 31.4222\n",
      "Month #2 = 21.0972\n",
      "Month #3 = 14.5972\n",
      "Month #4 = 10.0222\n",
      "Month #5 = 11.1389\n",
      "Month #6 = 16.3194\n",
      "Month #7 = 27.3556\n",
      "Month #8 = 48.0417\n",
      "Month #9 = 55.7500\n",
      "Month #10 = 71.0000\n",
      "Month #11 = 61.8194\n",
      "Month #12 = 41.6806\n"
     ]
    }
   ],
   "source": [
    "# San Juan\n",
    "sj_month_mean = dict()\n",
    "print('Average Number per month in San Juan: ')\n",
    "for month in range(1,13):\n",
    "    print('Month #%s = %.4f' % (month, np.mean(sj_y_train[sj_y_train.index.month == month])))\n",
    "    sj_month_mean[month] = np.mean(sj_y_train[sj_y_train.index.month == month])"
   ]
  },
  {
   "cell_type": "code",
   "execution_count": 24,
   "metadata": {},
   "outputs": [
    {
     "name": "stdout",
     "output_type": "stream",
     "text": [
      "Average Number per month in Iquitos:\n",
      "Month #1 = 12.0800\n",
      "Month #2 = 12.5750\n",
      "Month #3 = 7.2500\n",
      "Month #4 = 5.7000\n",
      "Month #5 = 4.8500\n",
      "Month #6 = 3.3750\n",
      "Month #7 = 3.0600\n",
      "Month #8 = 3.1500\n",
      "Month #9 = 6.4419\n",
      "Month #10 = 9.7447\n",
      "Month #11 = 9.8250\n",
      "Month #12 = 12.9000\n"
     ]
    }
   ],
   "source": [
    "# Iquitos\n",
    "iq_month_mean = dict()\n",
    "print('Average Number per month in Iquitos:')\n",
    "for month in range(1,13):\n",
    "    print('Month #%s = %.4f' % (month, np.mean(iq_y_train[iq_y_train.index.month == month])))\n",
    "    iq_month_mean[month] = np.mean(iq_y_train[iq_y_train.index.month == month])"
   ]
  },
  {
   "cell_type": "code",
   "execution_count": 25,
   "metadata": {},
   "outputs": [],
   "source": [
    "# Approach #1: Replace null with monthwise mean.\n",
    "def mean_replace(data):\n",
    "    for col in data.columns:\n",
    "        if data[col].isnull().any():\n",
    "            data[col] = data[col].fillna(np.mean(data[col]))\n",
    "    return data"
   ]
  },
  {
   "cell_type": "code",
   "execution_count": 26,
   "metadata": {},
   "outputs": [],
   "source": [
    "sj_all2 = sj_all.copy().drop(['total_cases'], axis = 1)"
   ]
  },
  {
   "cell_type": "code",
   "execution_count": 27,
   "metadata": {},
   "outputs": [],
   "source": [
    "sj_all2 = mean_replace(sj_all2)"
   ]
  },
  {
   "cell_type": "code",
   "execution_count": 28,
   "metadata": {},
   "outputs": [],
   "source": [
    "iq_all2 = iq_all.copy().drop(['total_cases'], axis = 1)\n",
    "iq_all2 = mean_replace(iq_all2)"
   ]
  },
  {
   "cell_type": "markdown",
   "metadata": {},
   "source": [
    "# The First Neural Network"
   ]
  },
  {
   "cell_type": "code",
   "execution_count": 29,
   "metadata": {},
   "outputs": [],
   "source": [
    "# Try 1st NN with lag-2, note that SanJuan has 936 training observations, whereas Iquitos has\n",
    "# 520.\n",
    "sj_train = sj_all2.iloc[:934]\n",
    "sj_label = sj_y_train[2:].reset_index(drop = True)\n",
    "sj_test = sj_all2.iloc[934:-2]\n",
    "\n",
    "iq_train = iq_all2.iloc[:518]\n",
    "iq_label = iq_y_train[2:].reset_index(drop = True)\n",
    "iq_test = iq_all2.iloc[518:-2]"
   ]
  },
  {
   "cell_type": "code",
   "execution_count": 30,
   "metadata": {},
   "outputs": [],
   "source": [
    "# Load submission\n",
    "subm = pd.read_csv('submission_format.csv')"
   ]
  },
  {
   "cell_type": "code",
   "execution_count": 31,
   "metadata": {},
   "outputs": [
    {
     "data": {
      "text/plain": [
       "(416, 4)"
      ]
     },
     "execution_count": 31,
     "metadata": {},
     "output_type": "execute_result"
    }
   ],
   "source": [
    "subm.shape"
   ]
  },
  {
   "cell_type": "code",
   "execution_count": 32,
   "metadata": {},
   "outputs": [
    {
     "data": {
      "text/plain": [
       "416"
      ]
     },
     "execution_count": 32,
     "metadata": {},
     "output_type": "execute_result"
    }
   ],
   "source": [
    "sj_test.shape[0] + iq_test.shape[0]"
   ]
  },
  {
   "cell_type": "code",
   "execution_count": 71,
   "metadata": {},
   "outputs": [],
   "source": [
    "from keras.models import Sequential\n",
    "from keras.layers import Dense\n",
    "from keras import optimizers"
   ]
  },
  {
   "cell_type": "code",
   "execution_count": 96,
   "metadata": {},
   "outputs": [],
   "source": [
    "model1 = Sequential()\n",
    "model1.add(Dense(units = 64, kernel_initializer = 'uniform',\n",
    "                activation = 'relu', input_dim = sj_train.shape[1]))\n",
    "model1.add(Dense(units = 128, kernel_initializer = 'uniform', activation = 'relu'))\n",
    "model1.add(Dense(units = 256, kernel_initializer = 'uniform', activation = 'relu'))\n",
    "model1.add(Dense(units = 512, kernel_initializer = 'uniform', activation = 'sigmoid'))\n",
    "model1.add(Dense(units = 1, kernel_initializer = 'uniform', activation = 'linear'))\n",
    "\n",
    "sgd = optimizers.SGD(lr = 0.001, decay = 1, momentum = 0.99)\n",
    "model1.compile(optimizer = sgd, loss = 'mae', metrics = ['accuracy'])"
   ]
  },
  {
   "cell_type": "code",
   "execution_count": 98,
   "metadata": {},
   "outputs": [
    {
     "name": "stdout",
     "output_type": "stream",
     "text": [
      "Epoch 1/20\n",
      "934/934 [==============================] - 1s 1ms/step - loss: 24.7430 - accuracy: 0.0193\n",
      "Epoch 2/20\n",
      "934/934 [==============================] - 1s 1ms/step - loss: 24.7432 - accuracy: 0.0193\n",
      "Epoch 3/20\n",
      "934/934 [==============================] - 1s 1ms/step - loss: 24.7419 - accuracy: 0.0139\n",
      "Epoch 4/20\n",
      "934/934 [==============================] - 1s 1ms/step - loss: 24.7410 - accuracy: 0.0150\n",
      "Epoch 5/20\n",
      "934/934 [==============================] - 1s 1ms/step - loss: 24.7407 - accuracy: 0.0150\n",
      "Epoch 6/20\n",
      "934/934 [==============================] - 1s 1ms/step - loss: 24.7410 - accuracy: 0.0150\n",
      "Epoch 7/20\n",
      "934/934 [==============================] - 1s 1ms/step - loss: 24.7408 - accuracy: 0.0150\n",
      "Epoch 8/20\n",
      "934/934 [==============================] - 1s 1ms/step - loss: 24.7397 - accuracy: 0.0150\n",
      "Epoch 9/20\n",
      "934/934 [==============================] - 1s 1ms/step - loss: 24.7390 - accuracy: 0.0150\n",
      "Epoch 10/20\n",
      "934/934 [==============================] - 1s 1ms/step - loss: 24.7385 - accuracy: 0.0150\n",
      "Epoch 11/20\n",
      "934/934 [==============================] - 1s 1ms/step - loss: 24.7379 - accuracy: 0.0150\n",
      "Epoch 12/20\n",
      "934/934 [==============================] - 1s 1ms/step - loss: 24.7377 - accuracy: 0.0150\n",
      "Epoch 13/20\n",
      "934/934 [==============================] - 1s 1ms/step - loss: 24.7371 - accuracy: 0.0150\n",
      "Epoch 14/20\n",
      "934/934 [==============================] - 1s 1ms/step - loss: 24.7366 - accuracy: 0.0150\n",
      "Epoch 15/20\n",
      "934/934 [==============================] - 1s 1ms/step - loss: 24.7365 - accuracy: 0.0150\n",
      "Epoch 16/20\n",
      "934/934 [==============================] - 1s 1ms/step - loss: 24.7360 - accuracy: 0.0150\n",
      "Epoch 17/20\n",
      "934/934 [==============================] - 1s 1ms/step - loss: 24.7358 - accuracy: 0.0150\n",
      "Epoch 18/20\n",
      "934/934 [==============================] - 1s 1ms/step - loss: 24.7356 - accuracy: 0.0150\n",
      "Epoch 19/20\n",
      "934/934 [==============================] - 1s 1ms/step - loss: 24.7354 - accuracy: 0.0150\n",
      "Epoch 20/20\n",
      "934/934 [==============================] - 1s 1ms/step - loss: 24.7353 - accuracy: 0.0150A: 0s - loss: 24.9181 - accur\n"
     ]
    },
    {
     "data": {
      "text/plain": [
       "<keras.callbacks.callbacks.History at 0x1a4c3502d0>"
      ]
     },
     "execution_count": 98,
     "metadata": {},
     "output_type": "execute_result"
    }
   ],
   "source": [
    "# San Juan\n",
    "model1.fit(sj_train, sj_label, epochs = 20, batch_size=2, verbose = 1)"
   ]
  },
  {
   "cell_type": "code",
   "execution_count": 101,
   "metadata": {},
   "outputs": [],
   "source": [
    "model2 = Sequential()\n",
    "model2.add(Dense(units = 64, kernel_initializer = 'uniform',\n",
    "                activation = 'relu', input_dim = sj_train.shape[1]))\n",
    "model2.add(Dense(units = 128, kernel_initializer = 'uniform', activation = 'relu'))\n",
    "model2.add(Dense(units = 256, kernel_initializer = 'uniform', activation = 'relu'))\n",
    "model2.add(Dense(units = 512, kernel_initializer = 'uniform', activation = 'relu'))\n",
    "model2.add(Dense(units = 1, kernel_initializer = 'uniform', activation = 'linear'))\n",
    "model2.compile(optimizer = 'adam', loss = 'mae', metrics = ['accuracy'])"
   ]
  },
  {
   "cell_type": "code",
   "execution_count": 103,
   "metadata": {},
   "outputs": [
    {
     "name": "stdout",
     "output_type": "stream",
     "text": [
      "Epoch 1/20\n",
      "518/518 [==============================] - 1s 2ms/step - loss: 6.1391 - accuracy: 0.0714\n",
      "Epoch 2/20\n",
      "518/518 [==============================] - 1s 2ms/step - loss: 6.1094 - accuracy: 0.0676\n",
      "Epoch 3/20\n",
      "518/518 [==============================] - 1s 2ms/step - loss: 6.1748 - accuracy: 0.0618\n",
      "Epoch 4/20\n",
      "518/518 [==============================] - 1s 2ms/step - loss: 6.0765 - accuracy: 0.0463\n",
      "Epoch 5/20\n",
      "518/518 [==============================] - 1s 2ms/step - loss: 6.0448 - accuracy: 0.0676\n",
      "Epoch 6/20\n",
      "518/518 [==============================] - 1s 2ms/step - loss: 6.1073 - accuracy: 0.0637\n",
      "Epoch 7/20\n",
      "518/518 [==============================] - 1s 2ms/step - loss: 6.1095 - accuracy: 0.0541\n",
      "Epoch 8/20\n",
      "518/518 [==============================] - 1s 2ms/step - loss: 6.1720 - accuracy: 0.0656\n",
      "Epoch 9/20\n",
      "518/518 [==============================] - 1s 2ms/step - loss: 6.0910 - accuracy: 0.0656\n",
      "Epoch 10/20\n",
      "518/518 [==============================] - 1s 2ms/step - loss: 6.0232 - accuracy: 0.0714\n",
      "Epoch 11/20\n",
      "518/518 [==============================] - 1s 2ms/step - loss: 6.1048 - accuracy: 0.0637\n",
      "Epoch 12/20\n",
      "518/518 [==============================] - 1s 2ms/step - loss: 6.1106 - accuracy: 0.0695\n",
      "Epoch 13/20\n",
      "518/518 [==============================] - 1s 2ms/step - loss: 6.0156 - accuracy: 0.0734\n",
      "Epoch 14/20\n",
      "518/518 [==============================] - 1s 2ms/step - loss: 6.0875 - accuracy: 0.0637\n",
      "Epoch 15/20\n",
      "518/518 [==============================] - 1s 2ms/step - loss: 6.0623 - accuracy: 0.0618\n",
      "Epoch 16/20\n",
      "518/518 [==============================] - 1s 2ms/step - loss: 6.0082 - accuracy: 0.0734\n",
      "Epoch 17/20\n",
      "518/518 [==============================] - 1s 2ms/step - loss: 6.0019 - accuracy: 0.0811\n",
      "Epoch 18/20\n",
      "518/518 [==============================] - 1s 2ms/step - loss: 6.0200 - accuracy: 0.0637\n",
      "Epoch 19/20\n",
      "518/518 [==============================] - 1s 2ms/step - loss: 6.0639 - accuracy: 0.0521\n",
      "Epoch 20/20\n",
      "518/518 [==============================] - 1s 2ms/step - loss: 6.0261 - accuracy: 0.0560\n"
     ]
    },
    {
     "data": {
      "text/plain": [
       "<keras.callbacks.callbacks.History at 0x1a4d261890>"
      ]
     },
     "execution_count": 103,
     "metadata": {},
     "output_type": "execute_result"
    }
   ],
   "source": [
    "# San Juan\n",
    "model2.fit(iq_train, iq_label, epochs = 20, batch_size=2, verbose = 1)"
   ]
  },
  {
   "cell_type": "code",
   "execution_count": 104,
   "metadata": {},
   "outputs": [],
   "source": [
    "result_sj = model1.predict(sj_test)\n",
    "result_iq = model2.predict(iq_test)\n",
    "\n",
    "result_sj = [int(x) for x in result_sj]\n",
    "result_iq = [int(x) for x in result_iq]"
   ]
  },
  {
   "cell_type": "code",
   "execution_count": 105,
   "metadata": {},
   "outputs": [],
   "source": [
    "tot_result = np.hstack([result_sj, result_iq])"
   ]
  },
  {
   "cell_type": "code",
   "execution_count": 106,
   "metadata": {},
   "outputs": [],
   "source": [
    "subm.total_cases = tot_result"
   ]
  },
  {
   "cell_type": "code",
   "execution_count": 107,
   "metadata": {},
   "outputs": [],
   "source": [
    "subm.to_csv('NN02.csv', index = False)"
   ]
  },
  {
   "cell_type": "code",
   "execution_count": null,
   "metadata": {},
   "outputs": [],
   "source": []
  },
  {
   "cell_type": "code",
   "execution_count": null,
   "metadata": {},
   "outputs": [],
   "source": []
  }
 ],
 "metadata": {
  "kernelspec": {
   "display_name": "Python 3",
   "language": "python",
   "name": "python3"
  },
  "language_info": {
   "codemirror_mode": {
    "name": "ipython",
    "version": 3
   },
   "file_extension": ".py",
   "mimetype": "text/x-python",
   "name": "python",
   "nbconvert_exporter": "python",
   "pygments_lexer": "ipython3",
   "version": "3.7.4"
  }
 },
 "nbformat": 4,
 "nbformat_minor": 2
}
